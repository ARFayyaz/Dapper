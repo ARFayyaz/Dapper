{
  "cells": [
    {
      "cell_type": "markdown",
      "metadata": {
        "id": "view-in-github",
        "colab_type": "text"
      },
      "source": [
        "<a href=\"https://colab.research.google.com/github/ARFayyaz/Dapper/blob/main/creating_marketing_assets_gemini_2_0.ipynb\" target=\"_parent\"><img src=\"https://colab.research.google.com/assets/colab-badge.svg\" alt=\"Open In Colab\"/></a>"
      ]
    },
    {
      "cell_type": "code",
      "execution_count": null,
      "metadata": {
        "id": "ur8xi4C7S06n"
      },
      "outputs": [],
      "source": [
        "# Copyright 2024 Google LLC\n",
        "#\n",
        "# Licensed under the Apache License, Version 2.0 (the \"License\");\n",
        "# you may not use this file except in compliance with the License.\n",
        "# You may obtain a copy of the License at\n",
        "#\n",
        "#     https://www.apache.org/licenses/LICENSE-2.0\n",
        "#\n",
        "# Unless required by applicable law or agreed to in writing, software\n",
        "# distributed under the License is distributed on an \"AS IS\" BASIS,\n",
        "# WITHOUT WARRANTIES OR CONDITIONS OF ANY KIND, either express or implied.\n",
        "# See the License for the specific language governing permissions and\n",
        "# limitations under the License."
      ]
    },
    {
      "cell_type": "markdown",
      "metadata": {
        "id": "JAPoU8Sm5E6e"
      },
      "source": [
        "# Creating Marketing Assets using Gemini 2.0\n",
        "\n",
        "<table align=\"left\">\n",
        "  <td style=\"text-align: center\">\n",
        "    <a href=\"https://colab.research.google.com/github/GoogleCloudPlatform/generative-ai/blob/main/gemini/use-cases/marketing/creating_marketing_assets_gemini_2_0.ipynb\">\n",
        "      <img width=\"32px\" src=\"https://www.gstatic.com/pantheon/images/bigquery/welcome_page/colab-logo.svg\" alt=\"Google Colaboratory logo\"><br> Open in Colab\n",
        "    </a>\n",
        "  </td>\n",
        "  <td style=\"text-align: center\">\n",
        "    <a href=\"https://console.cloud.google.com/vertex-ai/workbench/deploy-notebook?download_url=https://raw.githubusercontent.com/GoogleCloudPlatform/generative-ai/main/gemini/use-cases/marketing/creating_marketing_assets_gemini_2_0.ipynb\">\n",
        "      <img width=\"32px\" src=\"https://lh3.googleusercontent.com/JmcxdQi-qOpctIvWKgPtrzZdJJK-J3sWE1RsfjZNwshCFgE_9fULcNpuXYTilIR2hjwN\" alt=\"Google Cloud Colab Enterprise logo\"><br> Open in Colab Enterprise\n",
        "    </a>\n",
        "  </td>\n",
        "  <td style=\"text-align: center\">\n",
        "    <a href=\"https://console.cloud.google.com/vertex-ai/workbench/deploy-notebook?download_url=https://raw.githubusercontent.com/GoogleCloudPlatform/generative-ai/main/gemini/use-cases/marketing/creating_marketing_assets_gemini_2_0.ipynb\">\n",
        "      <img src=\"https://www.gstatic.com/images/branding/gcpiconscolors/vertexai/v1/32px.svg\" alt=\"Vertex AI logo\"><br> Open in Vertex AI Workbench\n",
        "    </a>\n",
        "  </td>\n",
        "  <td style=\"text-align: center\">\n",
        "    <a href=\"https://github.com/GoogleCloudPlatform/generative-ai/blob/main/gemini/use-cases/marketing/creating_marketing_assets_gemini_2_0.ipynb\">\n",
        "      <img width=\"32px\" src=\"https://www.svgrepo.com/download/217753/github.svg\" alt=\"GitHub logo\"><br> View on GitHub\n",
        "    </a>\n",
        "  </td>\n",
        "</table>\n",
        "\n",
        "<div style=\"clear: both;\"></div>\n",
        "\n",
        "<b>Share to:</b>\n",
        "\n",
        "<a href=\"https://www.linkedin.com/sharing/share-offsite/?url=https%3A//github.com/GoogleCloudPlatform/generative-ai/blob/main/gemini/use-cases/marketing/creating_marketing_assets_gemini_2_0.ipynb\" target=\"_blank\">\n",
        "  <img width=\"20px\" src=\"https://upload.wikimedia.org/wikipedia/commons/8/81/LinkedIn_icon.svg\" alt=\"LinkedIn logo\">\n",
        "</a>\n",
        "\n",
        "<a href=\"https://bsky.app/intent/compose?text=https%3A//github.com/GoogleCloudPlatform/generative-ai/blob/main/gemini/use-cases/marketing/creating_marketing_assets_gemini_2_0.ipynb\" target=\"_blank\">\n",
        "  <img width=\"20px\" src=\"https://upload.wikimedia.org/wikipedia/commons/7/7a/Bluesky_Logo.svg\" alt=\"Bluesky logo\">\n",
        "</a>\n",
        "\n",
        "<a href=\"https://twitter.com/intent/tweet?url=https%3A//github.com/GoogleCloudPlatform/generative-ai/blob/main/gemini/use-cases/marketing/creating_marketing_assets_gemini_2_0.ipynb\" target=\"_blank\">\n",
        "  <img width=\"20px\" src=\"https://upload.wikimedia.org/wikipedia/commons/5/5a/X_icon_2.svg\" alt=\"X logo\">\n",
        "</a>\n",
        "\n",
        "<a href=\"https://reddit.com/submit?url=https%3A//github.com/GoogleCloudPlatform/generative-ai/blob/main/gemini/use-cases/marketing/creating_marketing_assets_gemini_2_0.ipynb\" target=\"_blank\">\n",
        "  <img width=\"20px\" src=\"https://redditinc.com/hubfs/Reddit%20Inc/Brand/Reddit_Logo.png\" alt=\"Reddit logo\">\n",
        "</a>\n",
        "\n",
        "<a href=\"https://www.facebook.com/sharer/sharer.php?u=https%3A//github.com/GoogleCloudPlatform/generative-ai/blob/main/gemini/use-cases/marketing/creating_marketing_assets_gemini_2_0.ipynb\" target=\"_blank\">\n",
        "  <img width=\"20px\" src=\"https://upload.wikimedia.org/wikipedia/commons/5/51/Facebook_f_logo_%282019%29.svg\" alt=\"Facebook logo\">\n",
        "</a>"
      ]
    },
    {
      "cell_type": "markdown",
      "metadata": {
        "id": "84f0f73a0f76"
      },
      "source": [
        "| Author |\n",
        "| --- |\n",
        "| [Wan Qi Ang](https://github.com/angwanqi/) |"
      ]
    },
    {
      "cell_type": "markdown",
      "metadata": {
        "id": "tvgnzT1CKxrO"
      },
      "source": [
        "## Overview\n",
        "\n",
        "The new Google Gen AI SDK provides a unified interface to Gemini 2.0 through both the Gemini Developer API and the Gemini API on Vertex AI. With a few exceptions, code that runs on one platform will run on both. This means that you can prototype an application using the Developer API and then migrate the application to Vertex AI without rewriting your code.\n",
        "\n",
        "In this tutorial, you will learn how to combine the multimodal capabilities of Gemini and Grounding with Google Search to create a marketing campaign brief and marketing assets.\n",
        "\n",
        "You will complete the following tasks:\n",
        "- Get started with the unified Google Gen AI SDK\n",
        "- Create a marketing campaign brief and assets with Gemini, Grounding with Google Search and Controlled Generation"
      ]
    },
    {
      "cell_type": "markdown",
      "metadata": {
        "id": "61RBz8LLbxCR"
      },
      "source": [
        "## Get started"
      ]
    },
    {
      "cell_type": "markdown",
      "metadata": {
        "id": "No17Cw5hgx12"
      },
      "source": [
        "### Install Google Gen AI SDK\n"
      ]
    },
    {
      "cell_type": "code",
      "execution_count": 1,
      "metadata": {
        "id": "tFy3H3aPgx12",
        "colab": {
          "base_uri": "https://localhost:8080/"
        },
        "outputId": "dfef6e5c-9d81-4e26-fac9-eac4477fdac9"
      },
      "outputs": [
        {
          "output_type": "stream",
          "name": "stdout",
          "text": [
            "\u001b[?25l   \u001b[90m━━━━━━━━━━━━━━━━━━━━━━━━━━━━━━━━━━━━━━━━\u001b[0m \u001b[32m0.0/196.3 kB\u001b[0m \u001b[31m?\u001b[0m eta \u001b[36m-:--:--\u001b[0m\r\u001b[2K   \u001b[91m━━━━━━━━━━━━━━━━━━━━━━━━━━━━━━━━━━━━━━━\u001b[0m\u001b[91m╸\u001b[0m \u001b[32m194.6/196.3 kB\u001b[0m \u001b[31m9.0 MB/s\u001b[0m eta \u001b[36m0:00:01\u001b[0m\r\u001b[2K   \u001b[90m━━━━━━━━━━━━━━━━━━━━━━━━━━━━━━━━━━━━━━━━\u001b[0m \u001b[32m196.3/196.3 kB\u001b[0m \u001b[31m4.3 MB/s\u001b[0m eta \u001b[36m0:00:00\u001b[0m\n",
            "\u001b[?25h"
          ]
        }
      ],
      "source": [
        "%pip install --upgrade --quiet google-genai"
      ]
    },
    {
      "cell_type": "markdown",
      "metadata": {
        "id": "dmWOrTJ3gx13"
      },
      "source": [
        "### Authenticate your notebook environment (Colab only)\n",
        "\n",
        "If you're running this notebook on Google Colab, run the cell below to authenticate your environment."
      ]
    },
    {
      "cell_type": "code",
      "execution_count": 2,
      "metadata": {
        "id": "NyKGtVQjgx13"
      },
      "outputs": [],
      "source": [
        "import sys\n",
        "\n",
        "if \"google.colab\" in sys.modules:\n",
        "    from google.colab import auth\n",
        "\n",
        "    auth.authenticate_user()"
      ]
    },
    {
      "cell_type": "markdown",
      "metadata": {
        "id": "bFksFuwD9TSg"
      },
      "source": [
        "## Using the Google Gen AI SDK"
      ]
    },
    {
      "cell_type": "markdown",
      "metadata": {
        "id": "IEYbYUbiLiqS"
      },
      "source": [
        "### Import the Google Gen AI SDK and other required libraries"
      ]
    },
    {
      "cell_type": "code",
      "execution_count": 3,
      "metadata": {
        "id": "j3pDScBD9Wkp"
      },
      "outputs": [],
      "source": [
        "import os\n",
        "import json\n",
        "\n",
        "from IPython.display import Markdown, display\n",
        "from google import genai\n",
        "from pydantic import BaseModel\n"
      ]
    },
    {
      "cell_type": "markdown",
      "metadata": {
        "id": "uv7-vd3P__AV"
      },
      "source": [
        "### Using Gemini 2.0 Flash with Vertex AI\n",
        "\n",
        "The new Google Gen AI SDK provides a unified interface to Gemini 2.0 Flash through both the Gemini Developer API and the Gemini API in Vertex AI. Gemini 2.0 Flash is also available through Google AI Studio and Vertex AI Studio.\n",
        "\n",
        "- **[Gemini Developer API](https://ai.google.dev/gemini-api/docs)**: Experiment, prototype, and deploy Gen AI projects.\n",
        "- **[Vertex AI](https://cloud.google.com/vertex-ai/generative-ai/docs/overview)**: Build enterprise-ready AI projects on Google Cloud.\n",
        "\n",
        "The Google Gen AI SDK provides a unified interface to these two API services."
      ]
    },
    {
      "cell_type": "markdown",
      "metadata": {
        "id": "mFCKo15iHKdS"
      },
      "source": [
        "#### Vertex AI\n",
        "\n",
        "For those who are looking to build enterprise-ready AI applications in the Cloud you can use [Vertex AI](https://cloud.google.com/vertex-ai?e=48754805&hl=nl). This means that you can prototype an application using the Gemini Developer API and then migrate the application to Vertex AI without rewriting your code. In the following section, we'll take you through steps on how you can switch from Gemini Developer API to Vertex AI.\n",
        "\n",
        "**To get started, you'll need:**\n",
        "1. A Google Cloud Project\n",
        "  - You can choose to [create a new Google Cloud Project](https://cloud.google.com/resource-manager/docs/creating-managing-projects#creating_a_project) OR\n",
        "  - Reuse an existing project (the same one you used to generate your API key or any other existing projects)\n",
        "2. To enable the [Vertex AI API](https://console.cloud.google.com/flows/enableapi?apiid=aiplatform.googleapis.com)\n",
        "\n",
        "Once your project is all set up, you're ready to switch out your code in the following section!"
      ]
    },
    {
      "cell_type": "markdown",
      "metadata": {
        "id": "x7h8QWG4J1Dw"
      },
      "source": [
        "##### **Set Google Cloud project and location information**\n",
        "\n",
        "**Google Cloud Projects**\n",
        "\n",
        "In Google Cloud, projects are the fundamental building blocks for organizing, managing and securing your cloud resources. With projects, you'll be able to easily isolate resources and assign fine-grained permissions to users/service accounts at the project level. This ensures that only authorized individuals can access and manage resources, thereby enhancing security.\n",
        "\n",
        "**Google Cloud Locations**\n",
        "\n",
        "Location is also important as it mainly affects performance and compliance with data regulations:\n",
        "\n",
        "- Performance: Choosing a location closer to your users reduces latency.\n",
        "\n",
        "- Data residency: Your use case, organization or industry might constraint the location of resources.\n",
        "\n",
        "So, selecting the right location for your Google Cloud resources is crucial for optimizing your applications and ensuring you meet your business requirements.\n",
        "\n",
        "**In the next cell, do the following:**\n",
        "- Replace ```PROJECT_ID``` with your Google Cloud project ID"
      ]
    },
    {
      "cell_type": "code",
      "execution_count": 9,
      "metadata": {
        "id": "Nqwi-5ufWp_B"
      },
      "outputs": [],
      "source": [
        "# Replace with your own Google Cloud Project ID\n",
        "PROJECT_ID = \"transfer-galaxy-accounting\"  # @param {type: \"string\", placeholder: \"your-project-id\"}\n",
        "\n",
        "# Use fallback from environment variable if not provided\n",
        "if not PROJECT_ID:\n",
        "    PROJECT_ID = os.environ.get(\"GOOGLE_CLOUD_PROJECT\")\n",
        "\n",
        "# Set default location (can be changed as needed)\n",
        "LOCATION = os.environ.get(\"GOOGLE_CLOUD_REGION\", \"us-central1\")\n"
      ]
    },
    {
      "cell_type": "code",
      "execution_count": 11,
      "metadata": {
        "id": "9EHmJzed1mA5"
      },
      "outputs": [],
      "source": [
        "client = genai.Client(vertexai=True, project=PROJECT_ID, location=LOCATION)\n"
      ]
    },
    {
      "cell_type": "code",
      "source": [
        "print(f\"Client initialized for project: {PROJECT_ID} in region: {LOCATION}\")\n"
      ],
      "metadata": {
        "colab": {
          "base_uri": "https://localhost:8080/"
        },
        "id": "L5Nb5eNfkvj1",
        "outputId": "1b3c4208-0587-4a79-9018-578f25c00a6e"
      },
      "execution_count": 10,
      "outputs": [
        {
          "output_type": "stream",
          "name": "stdout",
          "text": [
            "Client initialized for project: transfer-galaxy-accounting in region: us-central1\n"
          ]
        }
      ]
    },
    {
      "cell_type": "markdown",
      "metadata": {
        "id": "JFX5bZEwMuO0"
      },
      "source": [
        "## Sample Use Case - Creation and Localization of Marketing Assets\n",
        "\n",
        "In this section of the notebook, let's take a look at how we can apply Gemini to a real-world use case.\n",
        "\n",
        "Imagine you're part of a marketing team and you are tasked to create assets for a marketing campaign for the newest phone that your company is launching. As part of this campaign, you'll need to create the following assets:\n",
        "1. Marketing Campaign Brief\n",
        "2. Market Research on the industry\n",
        "2. Social Media Post Ad Copy\n",
        "3. Storyboard for a short-form video\n",
        "\n",
        "Given that your company operates in multiple countries, there is also the added requirement to generate assets in multiple languages such as English, French and Japanese.\n",
        "\n",
        "Let's see how you can use Gemini 2.0 Flash to help you accomplish these tasks!"
      ]
    },
    {
      "cell_type": "code",
      "execution_count": 8,
      "metadata": {
        "id": "ij_fQIepC3IY"
      },
      "outputs": [],
      "source": [
        "MODEL_ID = \"transfer-galaxy-accounting\"  # @param {type: \"string\"}"
      ]
    },
    {
      "cell_type": "markdown",
      "metadata": {
        "id": "ScGbi2kYPgcd"
      },
      "source": [
        "### Creating a marketing campaign brief using a past campaign as reference"
      ]
    },
    {
      "cell_type": "markdown",
      "metadata": {
        "id": "91KzAtrscOic"
      },
      "source": [
        "#### Let's have a look at a sample past campaign brief\n",
        "Your team has done a few campaigns for phone launches in the past and documented each campaign's details in the form of a PDF document. These are stored in [Google Cloud Storage (GCS)](https://cloud.google.com/storage?e=48754805&hl=nl), a scalable, secure, and cost-effective object storage solution.\n",
        "\n",
        "Let's have a look at one of the samples."
      ]
    },
    {
      "cell_type": "code",
      "execution_count": 12,
      "metadata": {
        "id": "ejBQqJgKaJSo",
        "colab": {
          "base_uri": "https://localhost:8080/"
        },
        "outputId": "2f5fee50-7c46-440b-9d2b-f3019614e462"
      },
      "outputs": [
        {
          "output_type": "stream",
          "name": "stdout",
          "text": [
            "Click to view the sample file:\n",
            "https://storage.googleapis.com/github-repo/generative-ai/gemini2/use-cases/marketing_example/sample_marketing_campaign_brief.pdf\n"
          ]
        }
      ],
      "source": [
        "# Set the Cloud Storage path\n",
        "marketing_brief_file_path = \"github-repo/generative-ai/gemini2/use-cases/marketing_example/sample_marketing_campaign_brief.pdf\"\n",
        "marketing_brief_file_uri = f\"gs://{marketing_brief_file_path}\"\n",
        "marketing_brief_file_url = f\"https://storage.googleapis.com/{marketing_brief_file_path}\"\n",
        "\n",
        "print(\"Click to view the sample file:\")\n",
        "print(marketing_brief_file_url)"
      ]
    },
    {
      "cell_type": "markdown",
      "metadata": {
        "id": "oTvzN1Ika3cD"
      },
      "source": [
        "#### Define response format with Controlled Generation\n",
        "Given the sample marketing campaign brief, we can use Gemini to efficiently extract key details from your past campaign briefs. To take it a step further, we can use [controlled generation](https://cloud.google.com/vertex-ai/generative-ai/docs/multimodal/control-generated-output) which allows you to define a specific schema for the output so that you receive consistently formatted responses. This is particularly useful when you already have an established data schema that you use for other tasks and you'll be able to directly extract data from the model's output without any post-processing.\n",
        "\n",
        "In the next cell, we define the JSON response schema for our marketing campaign brief."
      ]
    },
    {
      "cell_type": "code",
      "execution_count": 13,
      "metadata": {
        "id": "Z10jmIWbdeaK"
      },
      "outputs": [],
      "source": [
        "# JSON response schema for Marketing Campaign Brief\n",
        "\n",
        "\n",
        "class MarketingCampaignBrief(BaseModel):\n",
        "    campaign_name: str\n",
        "    campaign_objectives: list[str]\n",
        "    target_audience: str\n",
        "    media_strategy: list[str]\n",
        "    timeline: str\n",
        "    target_countries: list[str]\n",
        "    performance_metrics: list[str]"
      ]
    },
    {
      "cell_type": "markdown",
      "metadata": {
        "id": "KX8sMc3UaOG5"
      },
      "source": [
        "#### Extract details from sample past campaign brief with Gemini 2.0 Flash\n",
        "\n",
        "With our response schema all set, we are ready to send our prompt to Gemini 2.0 Flash! As Gemini 2.0 Flash is multimodal, we'll be able to send the PDF document as part of the input for Gemini to process.\n",
        "\n",
        "When using Vertex AI, you'll be able to pass the file's GCS URL directly to the model instead of having to retrieve and upload it. This makes it convenient for you to build multimodal Gemini-powered apps with seamless integration across Google Cloud. Given Gemini's large context window, GCS provides a scalable and reliable place to store massive datasets, making them readily available for inference.\n",
        "\n",
        "In the next cell, you'll do the following:\n",
        "1. Send the prompt together with the sample past campaign brief PDF to Gemini 2.0 Flash\n",
        "2. Specify that Gemini returns the response in the MarketingCampaignBrief schema you defined previously by including ```response_schema=MarketingCampaignBrief``` in the request"
      ]
    },
    {
      "cell_type": "code",
      "source": [
        "from google.genai import types\n",
        "from google.genai.types import GenerateContentConfig\n",
        "from pydantic import BaseModel\n",
        "import json\n",
        "\n",
        "# Define your schema model (if not defined yet)\n",
        "class MarketingCampaignBrief(BaseModel):\n",
        "    campaign_name: str\n",
        "    campaign_objectives: list[str]\n",
        "    target_audience: str\n",
        "    media_strategy: list[str]\n",
        "    timeline: str\n",
        "    target_countries: list[str]\n",
        "    performance_metrics: list[str]\n",
        "\n",
        "# Your prompt to Gemini\n",
        "prompt = \"\"\"\n",
        "Extract the details from the sample marketing brief.\n",
        "\"\"\"\n",
        "\n",
        "# URL of the sample PDF brief\n",
        "marketing_brief_file_url = \"https://storage.googleapis.com/github-repo/generative-ai/gemini2/use-cases/marketing_example/sample_marketing_campaign_brief.pdf\"\n",
        "\n",
        "# Create a Part object from the PDF URI\n",
        "marketing_brief_file = types.Part.from_uri(\n",
        "    file_uri=marketing_brief_file_url, mime_type=\"application/pdf\"\n",
        ")\n",
        "\n",
        "# Prepare the contents list: PDF file + prompt text\n",
        "contents = [marketing_brief_file, prompt]\n",
        "\n",
        "# Call the Gemini 2.0 Flash model with the schema specified\n",
        "response = client.models.generate_content(\n",
        "    model=\"gemini-2.0-flash-001\",\n",
        "    contents=contents,\n",
        "    config=GenerateContentConfig(\n",
        "        response_mime_type=\"application/json\",\n",
        "        response_schema=MarketingCampaignBrief,\n",
        "    ),\n",
        ")\n",
        "\n",
        "# Parse and pretty-print the JSON response\n",
        "sample_marketing_brief_json = json.loads(response.text)\n",
        "print(json.dumps(sample_marketing_brief_json, indent=2))\n"
      ],
      "metadata": {
        "colab": {
          "base_uri": "https://localhost:8080/"
        },
        "id": "pEjZ8MPPpYhV",
        "outputId": "4b79d82b-d853-433a-86e6-d7b03aefea5b"
      },
      "execution_count": 14,
      "outputs": [
        {
          "output_type": "stream",
          "name": "stdout",
          "text": [
            "{\n",
            "  \"campaign_name\": \"Connect Beyond Limits with Pix Phone 5\",\n",
            "  \"campaign_objectives\": [\n",
            "    \"Increase awareness of the latest model of the Pix Phone\",\n",
            "    \"Generate leads and drive phone sales\",\n",
            "    \"Position Pix Phone and the trendy phone to have\"\n",
            "  ],\n",
            "  \"target_audience\": \"Individuals aged 20-40 in major markets such as US, France, Japan\",\n",
            "  \"media_strategy\": [\n",
            "    \"Social Media Marketing: Run targeted social media ads on platforms where the target audience is active.\",\n",
            "    \"Influencer Marketing: Partner with influencers in the tech industry to promote Pix Phone 5\",\n",
            "    \"Paid Advertising: Run targeted display ads on websites and apps frequented by the target audience. Use search engine marketing (SEM) to bid on relevant keywords and appear in search results when potential customers are looking for asset protection insurance.\"\n",
            "  ],\n",
            "  \"timeline\": \"Activity in the 3 major markets in at least the online channels by early Oct 2023, Start from US, followed by France then Japan, The campaign should use the US version as anchor and localized accordingly\",\n",
            "  \"target_countries\": [\n",
            "    \"US\",\n",
            "    \"France\",\n",
            "    \"Japan\"\n",
            "  ],\n",
            "  \"performance_metrics\": [\n",
            "    \"Track website traffic, lead generation, and phone sales to measure campaign effectiveness.\",\n",
            "    \"Use social media analytics to monitor engagement, reach, and sentiment.\"\n",
            "  ]\n",
            "}\n"
          ]
        }
      ]
    },
    {
      "cell_type": "code",
      "source": [
        "from google.genai.types import GenerateContentConfig\n",
        "from google.genai import types\n"
      ],
      "metadata": {
        "id": "5OJ9ZA0Sm-pY"
      },
      "execution_count": null,
      "outputs": []
    },
    {
      "cell_type": "code",
      "source": [
        "from pydantic import BaseModel\n",
        "from google.genai import types\n",
        "from google.genai.types import GenerateContentConfig\n",
        "import json\n",
        "\n",
        "# Define the data model for the expected JSON output\n",
        "class MarketingCampaignBrief(BaseModel):\n",
        "    campaign_name: str\n",
        "    campaign_objectives: list[str]\n",
        "    target_audience: str\n",
        "    media_strategy: list[str]\n",
        "    timeline: str\n",
        "    target_countries: list[str]\n",
        "    performance_metrics: list[str]\n",
        "\n",
        "prompt = \"\"\"\n",
        "  Extract the details from the sample marketing brief.\n",
        "\"\"\"\n",
        "\n",
        "marketing_brief_file_url = \"https://storage.googleapis.com/github-repo/generative-ai/gemini2/use-cases/marketing_example/sample_marketing_campaign_brief.pdf\"\n",
        "\n",
        "marketing_brief_file = types.Part.from_uri(\n",
        "    file_uri=marketing_brief_file_url, mime_type=\"application/pdf\"\n",
        ")\n",
        "contents = [marketing_brief_file, prompt]\n",
        "\n",
        "try:\n",
        "    response = client.models.generate_content(\n",
        "        model=MODEL_ID,\n",
        "        contents=contents,\n",
        "        config=GenerateContentConfig(\n",
        "            response_mime_type=\"application/json\",\n",
        "            response_schema=MarketingCampaignBrief,\n",
        "        ),\n",
        "    )\n",
        "    sample_marketing_brief = response.text\n",
        "    sample_marketing_brief_json = json.loads(sample_marketing_brief)\n",
        "    print(json.dumps(sample_marketing_brief_json, indent=2))\n",
        "except Exception as e:\n",
        "    print(\"Error generating content:\", e)\n"
      ],
      "metadata": {
        "colab": {
          "base_uri": "https://localhost:8080/"
        },
        "id": "NEp_o5Qcoplw",
        "outputId": "2dbf3c78-d659-4bd9-a525-28988b085a63"
      },
      "execution_count": null,
      "outputs": [
        {
          "output_type": "stream",
          "name": "stdout",
          "text": [
            "{\n",
            "  \"campaign_name\": \"Connect Beyond Limits with Pix Phone 5\",\n",
            "  \"campaign_objectives\": [\n",
            "    \"Increase awareness of the latest model of the Pix Phone\",\n",
            "    \"Generate leads and drive phone sales\",\n",
            "    \"Position Pix Phone and the trendy phone to have\"\n",
            "  ],\n",
            "  \"target_audience\": \"Individuals aged 20-40 in major markets such as US, France, Japan\",\n",
            "  \"media_strategy\": [\n",
            "    \"Social Media Marketing: Run targeted social media ads on platforms where the target audience is active.\",\n",
            "    \"Influencer Marketing: Partner with influencers in the tech industry to promote Pix Phone 5\",\n",
            "    \"Paid Advertising: Run targeted display ads on websites and apps frequented by the target audience. Use search engine marketing (SEM) to bid on relevant keywords and appear in search results when potential customers are looking for asset protection insurance.\"\n",
            "  ],\n",
            "  \"timeline\": \"Activity in the 3 major markets in at least the online channels by early Oct 2023. Start from US, followed by France then Japan\",\n",
            "  \"target_countries\": [\n",
            "    \"US\",\n",
            "    \"France\",\n",
            "    \"Japan\"\n",
            "  ],\n",
            "  \"performance_metrics\": [\n",
            "    \"Track website traffic, lead generation, and phone sales to measure campaign effectiveness.\",\n",
            "    \"Use social media analytics to monitor engagement, reach, and sentiment.\"\n",
            "  ]\n",
            "}\n"
          ]
        }
      ]
    },
    {
      "cell_type": "code",
      "source": [
        "from pydantic import BaseModel\n",
        "from typing import List\n",
        "\n",
        "class MarketingCampaignBrief(BaseModel):\n",
        "    campaign_name: str\n",
        "    campaign_objectives: List[str]\n",
        "    target_audience: str\n",
        "    media_strategy: List[str]\n",
        "    timeline: str\n",
        "    target_countries: List[str]\n",
        "    performance_metrics: List[str]\n",
        "\n",
        "# Your sample JSON as a Python dict\n",
        "sample_data = {\n",
        "  \"campaign_name\": \"Connect Beyond Limits with Pix Phone 5\",\n",
        "  \"campaign_objectives\": [\n",
        "    \"Increase awareness of the latest model of the Pix Phone\",\n",
        "    \"Generate leads and drive phone sales\",\n",
        "    \"Position Pix Phone and the trendy phone to have\"\n",
        "  ],\n",
        "  \"target_audience\": \"Individuals aged 20-40 in major markets such as US, France, Japan\",\n",
        "  \"media_strategy\": [\n",
        "    \"Social Media Marketing: Run targeted social media ads on platforms where the target audience is active.\",\n",
        "    \"Influencer Marketing: Partner with influencers in the tech industry to promote Pix Phone 5\",\n",
        "    \"Paid Advertising: Run targeted display ads on websites and apps frequented by the target audience. Use search engine marketing (SEM) to bid on relevant keywords and appear in search results when potential customers are looking for asset protection insurance.\"\n",
        "  ],\n",
        "  \"timeline\": \"Activity in the 3 major markets in at least the online channels by early Oct 2023. Start from US, followed by France then Japan\",\n",
        "  \"target_countries\": [\n",
        "    \"US\",\n",
        "    \"France\",\n",
        "    \"Japan\"\n",
        "  ],\n",
        "  \"performance_metrics\": [\n",
        "    \"Track website traffic, lead generation, and phone sales to measure campaign effectiveness.\",\n",
        "    \"Use social media analytics to monitor engagement, reach, and sentiment.\"\n",
        "  ]\n",
        "}\n",
        "\n",
        "brief = MarketingCampaignBrief.parse_obj(sample_data)\n",
        "\n",
        "print(brief)\n"
      ],
      "metadata": {
        "colab": {
          "base_uri": "https://localhost:8080/"
        },
        "id": "z9UDuXxlo3XB",
        "outputId": "fa091a6a-4a93-4c9b-e700-548bb5726964"
      },
      "execution_count": null,
      "outputs": [
        {
          "output_type": "stream",
          "name": "stdout",
          "text": [
            "campaign_name='Connect Beyond Limits with Pix Phone 5' campaign_objectives=['Increase awareness of the latest model of the Pix Phone', 'Generate leads and drive phone sales', 'Position Pix Phone and the trendy phone to have'] target_audience='Individuals aged 20-40 in major markets such as US, France, Japan' media_strategy=['Social Media Marketing: Run targeted social media ads on platforms where the target audience is active.', 'Influencer Marketing: Partner with influencers in the tech industry to promote Pix Phone 5', 'Paid Advertising: Run targeted display ads on websites and apps frequented by the target audience. Use search engine marketing (SEM) to bid on relevant keywords and appear in search results when potential customers are looking for asset protection insurance.'] timeline='Activity in the 3 major markets in at least the online channels by early Oct 2023. Start from US, followed by France then Japan' target_countries=['US', 'France', 'Japan'] performance_metrics=['Track website traffic, lead generation, and phone sales to measure campaign effectiveness.', 'Use social media analytics to monitor engagement, reach, and sentiment.']\n"
          ]
        },
        {
          "output_type": "stream",
          "name": "stderr",
          "text": [
            "<ipython-input-18-6dc35457e95d>:39: PydanticDeprecatedSince20: The `parse_obj` method is deprecated; use `model_validate` instead. Deprecated in Pydantic V2.0 to be removed in V3.0. See Pydantic V2 Migration Guide at https://errors.pydantic.dev/2.11/migration/\n",
            "  brief = MarketingCampaignBrief.parse_obj(sample_data)\n"
          ]
        }
      ]
    },
    {
      "cell_type": "code",
      "source": [
        "print(\"Campaign Name:\", brief.campaign_name)\n",
        "print(\"Target Audience:\", brief.target_audience)\n",
        "print(\"Performance Metrics:\", brief.performance_metrics)\n"
      ],
      "metadata": {
        "colab": {
          "base_uri": "https://localhost:8080/"
        },
        "id": "St0Zky0xo6Ox",
        "outputId": "bf6af5af-d519-4e70-fe7b-4e835516dc3c"
      },
      "execution_count": null,
      "outputs": [
        {
          "output_type": "stream",
          "name": "stdout",
          "text": [
            "Campaign Name: Connect Beyond Limits with Pix Phone 5\n",
            "Target Audience: Individuals aged 20-40 in major markets such as US, France, Japan\n",
            "Performance Metrics: ['Track website traffic, lead generation, and phone sales to measure campaign effectiveness.', 'Use social media analytics to monitor engagement, reach, and sentiment.']\n"
          ]
        }
      ]
    },
    {
      "cell_type": "code",
      "source": [
        "# Instantiate client for Vertex AI\n",
        "# Ensure this is run AFTER authenticating and initializing vertexai\n",
        "from google import genai\n",
        "from vertexai import init\n",
        "\n",
        "# Initialize Vertex AI - this is already done in a previous cell but repeated here for clarity\n",
        "# Make sure the previous cell with auth.authenticate_user() and this init runs successfully first.\n",
        "init(project=PROJECT_ID, location=LOCATION)\n",
        "\n",
        "# Now instantiate the genai client for Vertex AI\n",
        "# The client should now pick up the credentials initialized by vertexai.init()\n",
        "client = genai.Client(vertexai=True, project=PROJECT_ID, location=LOCATION)"
      ],
      "metadata": {
        "id": "HqL7vBPrywzv"
      },
      "execution_count": null,
      "outputs": []
    },
    {
      "cell_type": "markdown",
      "metadata": {
        "id": "94xroHNWfXLI"
      },
      "source": [
        "You've successfully extracted the information from the sample past campaign brief PDF document with Gemini 2.0 Flash and Controlled Generation!"
      ]
    },
    {
      "cell_type": "markdown",
      "metadata": {
        "id": "dQyEGsAEEnIA"
      },
      "source": [
        "### Conduct market research with Google Search as a tool\n",
        "\n",
        "Next, let's do some market research and find out more about the latest trends in the phone industry so that we can enrich our marketing campaign with the latest information.\n",
        "\n",
        "But how can I do it if LLMs are frozen in time? Here's where Google Search as a tool can be used, to make Gemini more factual and up-to-date by letting you use Gemini with Google Search in real-time to access and incorporate information from the vast expanse of the public web. You should expect reduced hallucinations and increased accuracy.\n",
        "\n",
        "**Here are some incredibly useful applications for grounding:**\n",
        "- Question answering: Get accurate answers to questions that require up-to-date information (e.g., \"What's the latest news on...?\").\n",
        "- Content creation: Generate factual and relevant content on various topics.\n",
        "- Chatbots and conversational AI: Build chatbots that can engage in informed and engaging conversations.\n",
        "\n",
        "In the next cells, let's use Grounding with Google Search to find out more about the latest trends!"
      ]
    },
    {
      "cell_type": "code",
      "execution_count": 15,
      "metadata": {
        "id": "VTHhLxgu_FoF"
      },
      "outputs": [],
      "source": [
        "from IPython.display import Markdown, display\n",
        "\n",
        "def print_grounding_response(response):\n",
        "    \"\"\"\n",
        "    Prints Gemini AI model response with grounding citations and sources formatted in Markdown.\n",
        "\n",
        "    Args:\n",
        "        response: The response object from Gemini generate_content API call,\n",
        "                  expected to have candidates[0].grounding_metadata with grounding info.\n",
        "    \"\"\"\n",
        "    grounding_metadata = getattr(response.candidates[0], \"grounding_metadata\", None)\n",
        "    if grounding_metadata is None:\n",
        "        print(\"No grounding metadata found in response.\")\n",
        "        print(response.text)\n",
        "        return\n",
        "\n",
        "    ENCODING = \"utf-8\"\n",
        "    text_bytes = response.text.encode(ENCODING)\n",
        "\n",
        "    prev_index = 0\n",
        "    markdown_text = \"\"\n",
        "\n",
        "    for grounding_support in grounding_metadata.grounding_supports or []:\n",
        "        # Extract the text segment for this grounding support by byte indices\n",
        "        text_segment = text_bytes[\n",
        "            prev_index : grounding_support.segment.end_index\n",
        "        ].decode(ENCODING)\n",
        "\n",
        "        # Build footnotes linking to grounding chunk URIs\n",
        "        footnotes_text = \"\"\n",
        "        for idx in grounding_support.grounding_chunk_indices or []:\n",
        "            chunk = grounding_metadata.grounding_chunks[idx]\n",
        "            footnotes_text += f\"[[{idx + 1}]]({chunk.web.uri})\\n\"\n",
        "\n",
        "        markdown_text += f\"{text_segment} {footnotes_text}\\n\"\n",
        "        prev_index = grounding_support.segment.end_index\n",
        "\n",
        "    # Append remaining text after last grounding segment\n",
        "    if prev_index < len(text_bytes):\n",
        "        markdown_text += text_bytes[prev_index:].decode(ENCODING)\n",
        "\n",
        "    markdown_text += \"\\n----\\n## Grounding Sources\\n\"\n",
        "\n",
        "    # Display web search queries if present\n",
        "    if grounding_metadata.web_search_queries:\n",
        "        markdown_text += f\"\\n**Web Search Queries:** {grounding_metadata.web_search_queries}\\n\"\n",
        "        if grounding_metadata.search_entry_point:\n",
        "            markdown_text += f\"\\n**Search Entry Point:**\\n{grounding_metadata.search_entry_point.rendered_content}\\n\"\n",
        "    elif grounding_metadata.retrieval_queries:\n",
        "        markdown_text += f\"\\n**Retrieval Queries:** {grounding_metadata.retrieval_queries}\\n\"\n",
        "\n",
        "    markdown_text += \"### Grounding Chunks\\n\"\n",
        "\n",
        "    # List grounding chunks with titles and URLs\n",
        "    for idx, chunk in enumerate(grounding_metadata.grounding_chunks or [], start=1):\n",
        "        context = chunk.web or chunk.retrieved_context\n",
        "        if not context:\n",
        "            print(f\"Skipping Grounding Chunk {chunk}\")\n",
        "            continue\n",
        "        markdown_text += f\"{idx}. [{context.title}]({context.uri})\\n\"\n",
        "\n",
        "    display(Markdown(markdown_text))\n"
      ]
    },
    {
      "cell_type": "code",
      "execution_count": null,
      "metadata": {
        "id": "-hYkFUxnVsSU",
        "colab": {
          "base_uri": "https://localhost:8080/",
          "height": 1000
        },
        "outputId": "57e3b653-df74-48c1-b5fc-74cb55c95e81"
      },
      "outputs": [
        {
          "output_type": "display_data",
          "data": {
            "text/plain": [
              "<IPython.core.display.Markdown object>"
            ],
            "text/markdown": "Okay, here's the information on the latest phone models from the top two phone makers and the general public sentiment about mobile phones.\n\n**Latest Phone Models and Their Selling Points (Top 2 Phone Makers)**\n\nBased on current information, here's a summary of recent models from Apple and Samsung:\n\n**Apple** [[1]](https://vertexaisearch.cloud.google.com/grounding-api-redirect/AbF9wXHGdZP6EXfN_T1OT7hDWfEV7xV9Q1FRYAcJEGyuNAbH-vDhUe7TGuv2ie0SAvGACp5OHT3LlYf2uIn4LsSfV4rJKwTwlk1SI_0dClU3UIQH2Hq2fhEHYld5Of32XAkbqj27QwBP)\n[[2]](https://vertexaisearch.cloud.google.com/grounding-api-redirect/AbF9wXFbjA7QM4xQvhGMFl9sYRTMf23HO-j6rQaeIkhJ-Uw3Qo7KJcEPd3hsaxiWiLtIqc7-p2ysN3TUJJSt-4lrdeLpDmdHM29Axx7_EWfLGMjIRiAyxBhOofXGsRVLc1zCGADXSe13_gNdzKfqMtj1_59FIQeZZZNFm9VzctNBJ6BzwkmL_4uT3NNgfBW-SwtIHfibYw==)\n[[3]](https://vertexaisearch.cloud.google.com/grounding-api-redirect/AbF9wXGF9_gDoH3b9cH2ZmDTo7r-uGIa0US-lZyEXpsc1Yt8_6xkq9yVeDxxpX5CnC6jXulVscZkhS9CdApiORtGxPtptp0WdAI_V8krSK6fDbGv1Q5UpYwqN-YHo9fzkul_)\n[[4]](https://vertexaisearch.cloud.google.com/grounding-api-redirect/AbF9wXHes_b0AVKej_xyY0Te01je1LWxdW1AruIcJcqUb4MSXScO-VhR5ad5hHVcyD9muyBcHByi0QK5JXE1gXQPkldREso1rjuShkeyCGrHhRYfobndVa6yu7msW8b1CsNBh2cdtGgVBwUktEO9aUWH)\n[[5]](https://vertexaisearch.cloud.google.com/grounding-api-redirect/AbF9wXHfBlqSihHkDed6XQm0hfp8NId329_DwFHyYjBrpEU5hU8y-wY-7OCK1dU-JFohDzN6HfNIeOhiiLo2WrYlac_z4Jl286L0YknlzVWuxprEUGssYkcV8Qg12WNf2t4emFtSNGcbyGU=)\n\n\n\n*   **iPhone 16 Series:** (iPhone 16, iPhone 16 Plus, iPhone 16 Pro, and iPhone 16 Pro Max, iPhone 16e): Released in late 2024 and early 2025. [[4]](https://vertexaisearch.cloud.google.com/grounding-api-redirect/AbF9wXHes_b0AVKej_xyY0Te01je1LWxdW1AruIcJcqUb4MSXScO-VhR5ad5hHVcyD9muyBcHByi0QK5JXE1gXQPkldREso1rjuShkeyCGrHhRYfobndVa6yu7msW8b1CsNBh2cdtGgVBwUktEO9aUWH)\n\n\n    *   **Selling Points:** USB-C charging, faster A18 and A18 Pro chips, a new Camera Control button, Dynamic Island, and the latest software and antivirus updates. [[1]](https://vertexaisearch.cloud.google.com/grounding-api-redirect/AbF9wXHGdZP6EXfN_T1OT7hDWfEV7xV9Q1FRYAcJEGyuNAbH-vDhUe7TGuv2ie0SAvGACp5OHT3LlYf2uIn4LsSfV4rJKwTwlk1SI_0dClU3UIQH2Hq2fhEHYld5Of32XAkbqj27QwBP)\n\n The Pro series has a strong and lightweight titanium design. [[1]](https://vertexaisearch.cloud.google.com/grounding-api-redirect/AbF9wXHGdZP6EXfN_T1OT7hDWfEV7xV9Q1FRYAcJEGyuNAbH-vDhUe7TGuv2ie0SAvGACp5OHT3LlYf2uIn4LsSfV4rJKwTwlk1SI_0dClU3UIQH2Hq2fhEHYld5Of32XAkbqj27QwBP)\n\n\n*Key innovations across the generations have included improvements in processing power, camera capabilities, display technology, and battery life, as well as the introduction of new features such as Face ID, Touch ID, augmented reality (AR), LiDAR, and 5G connectivity [[4]](https://vertexaisearch.cloud.google.com/grounding-api-redirect/AbF9wXHes_b0AVKej_xyY0Te01je1LWxdW1AruIcJcqUb4MSXScO-VhR5ad5hHVcyD9muyBcHByi0QK5JXE1gXQPkldREso1rjuShkeyCGrHhRYfobndVa6yu7msW8b1CsNBh2cdtGgVBwUktEO9aUWH)\n\n\n*   **Colors:** The iPhone 16 comes in ultramarine, teal, pink, white, and black. [[1]](https://vertexaisearch.cloud.google.com/grounding-api-redirect/AbF9wXHGdZP6EXfN_T1OT7hDWfEV7xV9Q1FRYAcJEGyuNAbH-vDhUe7TGuv2ie0SAvGACp5OHT3LlYf2uIn4LsSfV4rJKwTwlk1SI_0dClU3UIQH2Hq2fhEHYld5Of32XAkbqj27QwBP)\n\n The Pro series comes in desert titanium, natural titanium, white titanium, and black titanium. [[1]](https://vertexaisearch.cloud.google.com/grounding-api-redirect/AbF9wXHGdZP6EXfN_T1OT7hDWfEV7xV9Q1FRYAcJEGyuNAbH-vDhUe7TGuv2ie0SAvGACp5OHT3LlYf2uIn4LsSfV4rJKwTwlk1SI_0dClU3UIQH2Hq2fhEHYld5Of32XAkbqj27QwBP)\n\n\n\n**Samsung** [[6]](https://vertexaisearch.cloud.google.com/grounding-api-redirect/AbF9wXHm7KkNZEDLK9BZjlooY-X4EqrHVvUJfm38xnJGqDGwPJSUDTbMVTPqvZfNc4PNvbO-qBh8-m3FxEDI9tEPpfCQgxF7yuce1aSdemokpNIKlMpLmnusQRnxIB9z3lfdLp7lPAPZgv9NKJjFj9weI_E=)\n[[7]](https://vertexaisearch.cloud.google.com/grounding-api-redirect/AbF9wXHwMaidi8X_-ZamTr2ByVSaRmeOsTVj9Q9eUZv0e5U2Odn9P6nulooUXaxtpivmUNzQ0q_F5m7JqKP8mZT4bbXC9lgGpOQsOVhoxiyh-44Niyq5z6qkmbaoMbKh6nDA3mycwM4r_dw=)\n[[8]](https://vertexaisearch.cloud.google.com/grounding-api-redirect/AbF9wXFlS-knA1eZAh_ppAHbY3CzdgO2xF-cfeaPKd6yiK0iHIo_bExwR1KN____bJme1S0zgpcBOC38qKd4ppNFgfLJz29F2qcxuOY_3J48VbxW-hWWQjKAitl1oYNLQajS2VbYIz-STSd7kzIcuv9yxoyUPg==)\n[[9]](https://vertexaisearch.cloud.google.com/grounding-api-redirect/AbF9wXFGGm-zHFMvpprxDzModD0DWPxru4M92cXpy_MNfE28juJllvbGxWP_IWmrdOCnryfn_7fWPEHwR4GbXvBhWgxn8PCj9gk8ZRgWVniyo-VO4eTbmFPTX7NRJeYhm8QlkIKaymPqFnjtou4b4Sebggs8kBHJRar4)\n[[10]](https://vertexaisearch.cloud.google.com/grounding-api-redirect/AbF9wXESMTlgVNzxQYYLOl0tNJAJPgBmXS9bnbD0cw1AtCIsGlJ98PE9KSwF87CUicKvz1Oi4gMeL8RgEHvgIfAeWbnQ_9nwoDJAzvu3kjSxHAdamG3ShNm4lnmMUuClO6zk5BeflcAGaoU6)\n\n\n\n*   **Samsung Galaxy S25 Series:** (including S25 Edge) Pre-orders started in January 2025, released in February 2025. [[8]](https://vertexaisearch.cloud.google.com/grounding-api-redirect/AbF9wXFlS-knA1eZAh_ppAHbY3CzdgO2xF-cfeaPKd6yiK0iHIo_bExwR1KN____bJme1S0zgpcBOC38qKd4ppNFgfLJz29F2qcxuOY_3J48VbxW-hWWQjKAitl1oYNLQajS2VbYIz-STSd7kzIcuv9yxoyUPg==)\n\n\n    *   **Selling Points:** The S25 series comes with Galaxy AI features, enhanced camera updates, and the S25 Ultra has a 200-megapixel main lens and a new 50MP Ultra Wide lens. [[8]](https://vertexaisearch.cloud.google.com/grounding-api-redirect/AbF9wXFlS-knA1eZAh_ppAHbY3CzdgO2xF-cfeaPKd6yiK0iHIo_bExwR1KN____bJme1S0zgpcBOC38qKd4ppNFgfLJz29F2qcxuOY_3J48VbxW-hWWQjKAitl1oYNLQajS2VbYIz-STSd7kzIcuv9yxoyUPg==)\n\n\n*   **Samsung Galaxy A16 5G:**\n    *   **Selling Points:** Impressive processing power, a 5,000mAh battery with 25W Fast Charging, a 6.7-inch FHD+ Super AMOLED display, a 50MP main camera, and a 13MP front camera. [[8]](https://vertexaisearch.cloud.google.com/grounding-api-redirect/AbF9wXFlS-knA1eZAh_ppAHbY3CzdgO2xF-cfeaPKd6yiK0iHIo_bExwR1KN____bJme1S0zgpcBOC38qKd4ppNFgfLJz29F2qcxuOY_3J48VbxW-hWWQjKAitl1oYNLQajS2VbYIz-STSd7kzIcuv9yxoyUPg==)\n\n\n*   **Samsung Galaxy S25 Edge:**\n    *   **Selling Points:** Samsung's thinnest and lightest flagship phone, featuring a titanium bezel and Corning Gorilla Glass Ceramic 2. [[8]](https://vertexaisearch.cloud.google.com/grounding-api-redirect/AbF9wXFlS-knA1eZAh_ppAHbY3CzdgO2xF-cfeaPKd6yiK0iHIo_bExwR1KN____bJme1S0zgpcBOC38qKd4ppNFgfLJz29F2qcxuOY_3J48VbxW-hWWQjKAitl1oYNLQajS2VbYIz-STSd7kzIcuv9yxoyUPg==)\n\n It has a 200-megapixel camera and Next Gen ProVisual Engine. [[8]](https://vertexaisearch.cloud.google.com/grounding-api-redirect/AbF9wXFlS-knA1eZAh_ppAHbY3CzdgO2xF-cfeaPKd6yiK0iHIo_bExwR1KN____bJme1S0zgpcBOC38qKd4ppNFgfLJz29F2qcxuOY_3J48VbxW-hWWQjKAitl1oYNLQajS2VbYIz-STSd7kzIcuv9yxoyUPg==)\n\n It's powered by the Qualcomm Snapdragon Elite 8 processor and One UI 7. [[8]](https://vertexaisearch.cloud.google.com/grounding-api-redirect/AbF9wXFlS-knA1eZAh_ppAHbY3CzdgO2xF-cfeaPKd6yiK0iHIo_bExwR1KN____bJme1S0zgpcBOC38qKd4ppNFgfLJz29F2qcxuOY_3J48VbxW-hWWQjKAitl1oYNLQajS2VbYIz-STSd7kzIcuv9yxoyUPg==)\n\n\n\n**General Public Sentiment About Mobile Phones** [[11]](https://vertexaisearch.cloud.google.com/grounding-api-redirect/AbF9wXHbr4nd8CJ2QtrohfyvJI0VGJF8cbLwI87GQNZmhTNW8jzXgm_0L-uCqoc2gKN3Nzj4a9tGApK5Zpv-lgk28HHW0fLeINXdl_JwM-KflY6Q57xCDV9-FGSsTUa7P4NN2DE2nZO_2-ZaURh1YKOZ-MJYMf2L5KC8w8wOfL2FRV58NJCaGWPWqyhjnCf-l1FQptfRpsHjHzz9EpvYu0OkdDjkoR7t25IKVHaWABhDMB35u6yWG5eSadTTE98R_My_xDXS10gSJ_yp4bernyF7tEQ=)\n[[12]](https://vertexaisearch.cloud.google.com/grounding-api-redirect/AbF9wXHjIRj8UUOK-G_VP6VEammktxQpp5QpT1wcd9dXShVAzC62rG9nUEzlIgB2Jz2g8FtHNKDin-dHfv1jZHrQ-2xBt-PnpUDmFuGARGNjGc2ttHOCw0S99ODgZO2T4XZ6HFeIESCo851ydN_nx_30dssfr2eUjaS5vX1x)\n[[13]](https://vertexaisearch.cloud.google.com/grounding-api-redirect/AbF9wXErHF78SqD4azz8FY1Hfh8xBc7dSm1MWtrlVF95mSRxUACeVYYJRxddpK4wuVD0zbAL8MMO-M90y5Jnv1aRvVJ6pQZaoExFfeZfG4PuyqMEjPaPe2doeDO06rVICvlCch3rWVE2idjSszE7oOarObBio0wiht_cA55EAB_YPE7lxJMoeSgQrnM=)\n[[14]](https://vertexaisearch.cloud.google.com/grounding-api-redirect/AbF9wXH8kXXmp6evrq1t6Og7TrcZn9ShfPrxXFa7f958EWrJGv3MaQ-ID1g0n_oBZPtIs1k64x4RqjNBRgGeP5Yp-18y9UxW8rH3_M215DTOo3orLr5KJQMfh1IhMXT-6in5rD2-lRvNWI--CvJsUDE83FE_m2gzV3-94WjKb-an-PqVhw==)\n\n\n\nHere's an overview of public sentiment:\n\n*   **Generally Positive:** Majorities say mobile phones are good for society and have been more positive than negative for them personally. [[11]](https://vertexaisearch.cloud.google.com/grounding-api-redirect/AbF9wXHbr4nd8CJ2QtrohfyvJI0VGJF8cbLwI87GQNZmhTNW8jzXgm_0L-uCqoc2gKN3Nzj4a9tGApK5Zpv-lgk28HHW0fLeINXdl_JwM-KflY6Q57xCDV9-FGSsTUa7P4NN2DE2nZO_2-ZaURh1YKOZ-MJYMf2L5KC8w8wOfL2FRV58NJCaGWPWqyhjnCf-l1FQptfRpsHjHzz9EpvYu0OkdDjkoR7t25IKVHaWABhDMB35u6yWG5eSadTTE98R_My_xDXS10gSJ_yp4bernyF7tEQ=)\n\n\n*   **Essential Tool:** Smartphones are increasingly becoming people's preferred method for carrying out essential tasks. [[13]](https://vertexaisearch.cloud.google.com/grounding-api-redirect/AbF9wXErHF78SqD4azz8FY1Hfh8xBc7dSm1MWtrlVF95mSRxUACeVYYJRxddpK4wuVD0zbAL8MMO-M90y5Jnv1aRvVJ6pQZaoExFfeZfG4PuyqMEjPaPe2doeDO06rVICvlCch3rWVE2idjSszE7oOarObBio0wiht_cA55EAB_YPE7lxJMoeSgQrnM=)\n\n\n*   **Concerns about Overuse:** A growing number of people believe they use their devices too much. [[13]](https://vertexaisearch.cloud.google.com/grounding-api-redirect/AbF9wXErHF78SqD4azz8FY1Hfh8xBc7dSm1MWtrlVF95mSRxUACeVYYJRxddpK4wuVD0zbAL8MMO-M90y5Jnv1aRvVJ6pQZaoExFfeZfG4PuyqMEjPaPe2doeDO06rVICvlCch3rWVE2idjSszE7oOarObBio0wiht_cA55EAB_YPE7lxJMoeSgQrnM=)\n\n\n*   **Mobile Phone \"Addiction\":** Nearly 57% of Americans consider themselves \"mobile phone addicts.\" [[14]](https://vertexaisearch.cloud.google.com/grounding-api-redirect/AbF9wXH8kXXmp6evrq1t6Og7TrcZn9ShfPrxXFa7f958EWrJGv3MaQ-ID1g0n_oBZPtIs1k64x4RqjNBRgGeP5Yp-18y9UxW8rH3_M215DTOo3orLr5KJQMfh1IhMXT-6in5rD2-lRvNWI--CvJsUDE83FE_m2gzV3-94WjKb-an-PqVhw==)\n\n\n*   **Impact on Children:** Publics are most negative about the impact of mobile phones on children. [[11]](https://vertexaisearch.cloud.google.com/grounding-api-redirect/AbF9wXHbr4nd8CJ2QtrohfyvJI0VGJF8cbLwI87GQNZmhTNW8jzXgm_0L-uCqoc2gKN3Nzj4a9tGApK5Zpv-lgk28HHW0fLeINXdl_JwM-KflY6Q57xCDV9-FGSsTUa7P4NN2DE2nZO_2-ZaURh1YKOZ-MJYMf2L5KC8w8wOfL2FRV58NJCaGWPWqyhjnCf-l1FQptfRpsHjHzz9EpvYu0OkdDjkoR7t25IKVHaWABhDMB35u6yWG5eSadTTE98R_My_xDXS10gSJ_yp4bernyF7tEQ=)\n\n\n*   **Health Concerns:** Some express concerns about excessive screen time, phone “addiction,” and a lack of physical activity. [[11]](https://vertexaisearch.cloud.google.com/grounding-api-redirect/AbF9wXHbr4nd8CJ2QtrohfyvJI0VGJF8cbLwI87GQNZmhTNW8jzXgm_0L-uCqoc2gKN3Nzj4a9tGApK5Zpv-lgk28HHW0fLeINXdl_JwM-KflY6Q57xCDV9-FGSsTUa7P4NN2DE2nZO_2-ZaURh1YKOZ-MJYMf2L5KC8w8wOfL2FRV58NJCaGWPWqyhjnCf-l1FQptfRpsHjHzz9EpvYu0OkdDjkoR7t25IKVHaWABhDMB35u6yWG5eSadTTE98R_My_xDXS10gSJ_yp4bernyF7tEQ=)\n\n\n*   **Privacy/Security:** Many believe privacy and security worsen when storing and sharing personal health information on mobile devices. [[15]](https://vertexaisearch.cloud.google.com/grounding-api-redirect/AbF9wXHsVr9hKnqrorPjdQ1rwgjjxt_iesF8Bv4vL_Ed_RjqQfpQjqmMdwOTyqdd-qSq6D_rsfPCBtTwLDVG7zgqpobbjAZ7ihoNZHgVVsJITU8g_LGi-4oIB6xSOycOUa_HXzhRydTi3uq4DJbROw==)\n\n\n\n**Additional Points**\n\n*   **Dependency:** Half of Americans agree with the statement, \"I can't imagine my life without my smartphone\". [[13]](https://vertexaisearch.cloud.google.com/grounding-api-redirect/AbF9wXErHF78SqD4azz8FY1Hfh8xBc7dSm1MWtrlVF95mSRxUACeVYYJRxddpK4wuVD0zbAL8MMO-M90y5Jnv1aRvVJ6pQZaoExFfeZfG4PuyqMEjPaPe2doeDO06rVICvlCch3rWVE2idjSszE7oOarObBio0wiht_cA55EAB_YPE7lxJMoeSgQrnM=)\n\n\n*   **Constant Connection:** Most adults keep their smartphones near them almost all the time during their waking hours. [[13]](https://vertexaisearch.cloud.google.com/grounding-api-redirect/AbF9wXErHF78SqD4azz8FY1Hfh8xBc7dSm1MWtrlVF95mSRxUACeVYYJRxddpK4wuVD0zbAL8MMO-M90y5Jnv1aRvVJ6pQZaoExFfeZfG4PuyqMEjPaPe2doeDO06rVICvlCch3rWVE2idjSszE7oOarObBio0wiht_cA55EAB_YPE7lxJMoeSgQrnM=)\n\n\n*   **Usage Stats:** Americans spend an average of 4 hours and 30 minutes on their phones daily, checking them 144 times per day. [[14]](https://vertexaisearch.cloud.google.com/grounding-api-redirect/AbF9wXH8kXXmp6evrq1t6Og7TrcZn9ShfPrxXFa7f958EWrJGv3MaQ-ID1g0n_oBZPtIs1k64x4RqjNBRgGeP5Yp-18y9UxW8rH3_M215DTOo3orLr5KJQMfh1IhMXT-6in5rD2-lRvNWI--CvJsUDE83FE_m2gzV3-94WjKb-an-PqVhw==)\n\n\n\n----\n## Grounding Sources\n\n**Web Search Queries:** ['latest samsung mobile phone models', 'latest apple mobile phone models', 'Public sentiment about mobile phones']\n\n**Search Entry Point:**\n<style>\n.container {\n  align-items: center;\n  border-radius: 8px;\n  display: flex;\n  font-family: Google Sans, Roboto, sans-serif;\n  font-size: 14px;\n  line-height: 20px;\n  padding: 8px 12px;\n}\n.chip {\n  display: inline-block;\n  border: solid 1px;\n  border-radius: 16px;\n  min-width: 14px;\n  padding: 5px 16px;\n  text-align: center;\n  user-select: none;\n  margin: 0 8px;\n  -webkit-tap-highlight-color: transparent;\n}\n.carousel {\n  overflow: auto;\n  scrollbar-width: none;\n  white-space: nowrap;\n  margin-right: -12px;\n}\n.headline {\n  display: flex;\n  margin-right: 4px;\n}\n.gradient-container {\n  position: relative;\n}\n.gradient {\n  position: absolute;\n  transform: translate(3px, -9px);\n  height: 36px;\n  width: 9px;\n}\n@media (prefers-color-scheme: light) {\n  .container {\n    background-color: #fafafa;\n    box-shadow: 0 0 0 1px #0000000f;\n  }\n  .headline-label {\n    color: #1f1f1f;\n  }\n  .chip {\n    background-color: #ffffff;\n    border-color: #d2d2d2;\n    color: #5e5e5e;\n    text-decoration: none;\n  }\n  .chip:hover {\n    background-color: #f2f2f2;\n  }\n  .chip:focus {\n    background-color: #f2f2f2;\n  }\n  .chip:active {\n    background-color: #d8d8d8;\n    border-color: #b6b6b6;\n  }\n  .logo-dark {\n    display: none;\n  }\n  .gradient {\n    background: linear-gradient(90deg, #fafafa 15%, #fafafa00 100%);\n  }\n}\n@media (prefers-color-scheme: dark) {\n  .container {\n    background-color: #1f1f1f;\n    box-shadow: 0 0 0 1px #ffffff26;\n  }\n  .headline-label {\n    color: #fff;\n  }\n  .chip {\n    background-color: #2c2c2c;\n    border-color: #3c4043;\n    color: #fff;\n    text-decoration: none;\n  }\n  .chip:hover {\n    background-color: #353536;\n  }\n  .chip:focus {\n    background-color: #353536;\n  }\n  .chip:active {\n    background-color: #464849;\n    border-color: #53575b;\n  }\n  .logo-light {\n    display: none;\n  }\n  .gradient {\n    background: linear-gradient(90deg, #1f1f1f 15%, #1f1f1f00 100%);\n  }\n}\n</style>\n<div class=\"container\">\n  <div class=\"headline\">\n    <svg class=\"logo-light\" width=\"18\" height=\"18\" viewBox=\"9 9 35 35\" fill=\"none\" xmlns=\"http://www.w3.org/2000/svg\">\n      <path fill-rule=\"evenodd\" clip-rule=\"evenodd\" d=\"M42.8622 27.0064C42.8622 25.7839 42.7525 24.6084 42.5487 23.4799H26.3109V30.1568H35.5897C35.1821 32.3041 33.9596 34.1222 32.1258 35.3448V39.6864H37.7213C40.9814 36.677 42.8622 32.2571 42.8622 27.0064V27.0064Z\" fill=\"#4285F4\"/>\n      <path fill-rule=\"evenodd\" clip-rule=\"evenodd\" d=\"M26.3109 43.8555C30.9659 43.8555 34.8687 42.3195 37.7213 39.6863L32.1258 35.3447C30.5898 36.3792 28.6306 37.0061 26.3109 37.0061C21.8282 37.0061 18.0195 33.9811 16.6559 29.906H10.9194V34.3573C13.7563 39.9841 19.5712 43.8555 26.3109 43.8555V43.8555Z\" fill=\"#34A853\"/>\n      <path fill-rule=\"evenodd\" clip-rule=\"evenodd\" d=\"M16.6559 29.8904C16.3111 28.8559 16.1074 27.7588 16.1074 26.6146C16.1074 25.4704 16.3111 24.3733 16.6559 23.3388V18.8875H10.9194C9.74388 21.2072 9.06992 23.8247 9.06992 26.6146C9.06992 29.4045 9.74388 32.022 10.9194 34.3417L15.3864 30.8621L16.6559 29.8904V29.8904Z\" fill=\"#FBBC05\"/>\n      <path fill-rule=\"evenodd\" clip-rule=\"evenodd\" d=\"M26.3109 16.2386C28.85 16.2386 31.107 17.1164 32.9095 18.8091L37.8466 13.8719C34.853 11.082 30.9659 9.3736 26.3109 9.3736C19.5712 9.3736 13.7563 13.245 10.9194 18.8875L16.6559 23.3388C18.0195 19.2636 21.8282 16.2386 26.3109 16.2386V16.2386Z\" fill=\"#EA4335\"/>\n    </svg>\n    <svg class=\"logo-dark\" width=\"18\" height=\"18\" viewBox=\"0 0 48 48\" xmlns=\"http://www.w3.org/2000/svg\">\n      <circle cx=\"24\" cy=\"23\" fill=\"#FFF\" r=\"22\"/>\n      <path d=\"M33.76 34.26c2.75-2.56 4.49-6.37 4.49-11.26 0-.89-.08-1.84-.29-3H24.01v5.99h8.03c-.4 2.02-1.5 3.56-3.07 4.56v.75l3.91 2.97h.88z\" fill=\"#4285F4\"/>\n      <path d=\"M15.58 25.77A8.845 8.845 0 0 0 24 31.86c1.92 0 3.62-.46 4.97-1.31l4.79 3.71C31.14 36.7 27.65 38 24 38c-5.93 0-11.01-3.4-13.45-8.36l.17-1.01 4.06-2.85h.8z\" fill=\"#34A853\"/>\n      <path d=\"M15.59 20.21a8.864 8.864 0 0 0 0 5.58l-5.03 3.86c-.98-2-1.53-4.25-1.53-6.64 0-2.39.55-4.64 1.53-6.64l1-.22 3.81 2.98.22 1.08z\" fill=\"#FBBC05\"/>\n      <path d=\"M24 14.14c2.11 0 4.02.75 5.52 1.98l4.36-4.36C31.22 9.43 27.81 8 24 8c-5.93 0-11.01 3.4-13.45 8.36l5.03 3.85A8.86 8.86 0 0 1 24 14.14z\" fill=\"#EA4335\"/>\n    </svg>\n    <div class=\"gradient-container\"><div class=\"gradient\"></div></div>\n  </div>\n  <div class=\"carousel\">\n    <a class=\"chip\" href=\"https://vertexaisearch.cloud.google.com/grounding-api-redirect/AbF9wXFtDdMSm5Scj9OXmiLpyRXqqtsmpRo0VOc6mitdOjy8G-V3kVOyTuDjZWk91S2U3az0FhQghzDu-qsx3oJUkS8zibGXlf25O9g4It4529sEjZDFjMQYEfQ9XnqXndKKrbPU4T446bMiW3nO-8ufyLxvdWfBXIcnFXOD_NzzqoI_luVa7nRAOsxQ71HqZ6C4CPce9r4hDx5Zek3pQUF21ZEYTK52KpP_\">Public sentiment about mobile phones</a>\n    <a class=\"chip\" href=\"https://vertexaisearch.cloud.google.com/grounding-api-redirect/AbF9wXFdNjIQalsn8RIuLGRNq5EQ4IIhwiN4wavcW-P0IiERuxzaNNaZHwwkdlB3gCW6o6WLMwH027lBm-ciwqAznNfS5aYk_mk-mWFR1AUPbvZ44yAepWR-JIEiijycT-dBSGor0v-WxhGywHn_MfELs89FoIILE11AauqFA7vUdKgPBKUDcd-suxbxBKRbpbYzfZn_xf556EW9zBlr07i7l7GZX3FF3w==\">latest samsung mobile phone models</a>\n    <a class=\"chip\" href=\"https://vertexaisearch.cloud.google.com/grounding-api-redirect/AbF9wXGWzAhNXX-Hwv2raflEGhe-ysv66U7ZQv_PTHHSQsNhmohB_3VwZGueOuwpvLNzY7hV-teZWlm4Wuexw1XCFzVNEZk1QD8PlkG61sLv5GVst7CXFEYr9woAfOPwc7RM7qMrfpwi-l12xwok9SxXvGrWXlgEW91bc8WvJwdnZWtInwsYYoZ_sfTkunR4UY5RXl7EzKGOsRAf1-u4C2cjiLyf_Tg=\">latest apple mobile phone models</a>\n  </div>\n</div>\n\n### Grounding Chunks\n1. [verizon.com](https://vertexaisearch.cloud.google.com/grounding-api-redirect/AbF9wXHGdZP6EXfN_T1OT7hDWfEV7xV9Q1FRYAcJEGyuNAbH-vDhUe7TGuv2ie0SAvGACp5OHT3LlYf2uIn4LsSfV4rJKwTwlk1SI_0dClU3UIQH2Hq2fhEHYld5Of32XAkbqj27QwBP)\n2. [officeworks.com.au](https://vertexaisearch.cloud.google.com/grounding-api-redirect/AbF9wXFbjA7QM4xQvhGMFl9sYRTMf23HO-j6rQaeIkhJ-Uw3Qo7KJcEPd3hsaxiWiLtIqc7-p2ysN3TUJJSt-4lrdeLpDmdHM29Axx7_EWfLGMjIRiAyxBhOofXGsRVLc1zCGADXSe13_gNdzKfqMtj1_59FIQeZZZNFm9VzctNBJ6BzwkmL_4uT3NNgfBW-SwtIHfibYw==)\n3. [wikipedia.org](https://vertexaisearch.cloud.google.com/grounding-api-redirect/AbF9wXGF9_gDoH3b9cH2ZmDTo7r-uGIa0US-lZyEXpsc1Yt8_6xkq9yVeDxxpX5CnC6jXulVscZkhS9CdApiORtGxPtptp0WdAI_V8krSK6fDbGv1Q5UpYwqN-YHo9fzkul_)\n4. [wikipedia.org](https://vertexaisearch.cloud.google.com/grounding-api-redirect/AbF9wXHes_b0AVKej_xyY0Te01je1LWxdW1AruIcJcqUb4MSXScO-VhR5ad5hHVcyD9muyBcHByi0QK5JXE1gXQPkldREso1rjuShkeyCGrHhRYfobndVa6yu7msW8b1CsNBh2cdtGgVBwUktEO9aUWH)\n5. [gsmarena.com](https://vertexaisearch.cloud.google.com/grounding-api-redirect/AbF9wXHfBlqSihHkDed6XQm0hfp8NId329_DwFHyYjBrpEU5hU8y-wY-7OCK1dU-JFohDzN6HfNIeOhiiLo2WrYlac_z4Jl286L0YknlzVWuxprEUGssYkcV8Qg12WNf2t4emFtSNGcbyGU=)\n6. [gadgets360.com](https://vertexaisearch.cloud.google.com/grounding-api-redirect/AbF9wXHm7KkNZEDLK9BZjlooY-X4EqrHVvUJfm38xnJGqDGwPJSUDTbMVTPqvZfNc4PNvbO-qBh8-m3FxEDI9tEPpfCQgxF7yuce1aSdemokpNIKlMpLmnusQRnxIB9z3lfdLp7lPAPZgv9NKJjFj9weI_E=)\n7. [verizon.com](https://vertexaisearch.cloud.google.com/grounding-api-redirect/AbF9wXHwMaidi8X_-ZamTr2ByVSaRmeOsTVj9Q9eUZv0e5U2Odn9P6nulooUXaxtpivmUNzQ0q_F5m7JqKP8mZT4bbXC9lgGpOQsOVhoxiyh-44Niyq5z6qkmbaoMbKh6nDA3mycwM4r_dw=)\n8. [vodafone.co.uk](https://vertexaisearch.cloud.google.com/grounding-api-redirect/AbF9wXFlS-knA1eZAh_ppAHbY3CzdgO2xF-cfeaPKd6yiK0iHIo_bExwR1KN____bJme1S0zgpcBOC38qKd4ppNFgfLJz29F2qcxuOY_3J48VbxW-hWWQjKAitl1oYNLQajS2VbYIz-STSd7kzIcuv9yxoyUPg==)\n9. [91mobiles.com](https://vertexaisearch.cloud.google.com/grounding-api-redirect/AbF9wXFGGm-zHFMvpprxDzModD0DWPxru4M92cXpy_MNfE28juJllvbGxWP_IWmrdOCnryfn_7fWPEHwR4GbXvBhWgxn8PCj9gk8ZRgWVniyo-VO4eTbmFPTX7NRJeYhm8QlkIKaymPqFnjtou4b4Sebggs8kBHJRar4)\n10. [gsmarena.com](https://vertexaisearch.cloud.google.com/grounding-api-redirect/AbF9wXESMTlgVNzxQYYLOl0tNJAJPgBmXS9bnbD0cw1AtCIsGlJ98PE9KSwF87CUicKvz1Oi4gMeL8RgEHvgIfAeWbnQ_9nwoDJAzvu3kjSxHAdamG3ShNm4lnmMUuClO6zk5BeflcAGaoU6)\n11. [pewresearch.org](https://vertexaisearch.cloud.google.com/grounding-api-redirect/AbF9wXHbr4nd8CJ2QtrohfyvJI0VGJF8cbLwI87GQNZmhTNW8jzXgm_0L-uCqoc2gKN3Nzj4a9tGApK5Zpv-lgk28HHW0fLeINXdl_JwM-KflY6Q57xCDV9-FGSsTUa7P4NN2DE2nZO_2-ZaURh1YKOZ-MJYMf2L5KC8w8wOfL2FRV58NJCaGWPWqyhjnCf-l1FQptfRpsHjHzz9EpvYu0OkdDjkoR7t25IKVHaWABhDMB35u6yWG5eSadTTE98R_My_xDXS10gSJ_yp4bernyF7tEQ=)\n12. [firstmonday.org](https://vertexaisearch.cloud.google.com/grounding-api-redirect/AbF9wXHjIRj8UUOK-G_VP6VEammktxQpp5QpT1wcd9dXShVAzC62rG9nUEzlIgB2Jz2g8FtHNKDin-dHfv1jZHrQ-2xBt-PnpUDmFuGARGNjGc2ttHOCw0S99ODgZO2T4XZ6HFeIESCo851ydN_nx_30dssfr2eUjaS5vX1x)\n13. [gallup.com](https://vertexaisearch.cloud.google.com/grounding-api-redirect/AbF9wXErHF78SqD4azz8FY1Hfh8xBc7dSm1MWtrlVF95mSRxUACeVYYJRxddpK4wuVD0zbAL8MMO-M90y5Jnv1aRvVJ6pQZaoExFfeZfG4PuyqMEjPaPe2doeDO06rVICvlCch3rWVE2idjSszE7oOarObBio0wiht_cA55EAB_YPE7lxJMoeSgQrnM=)\n14. [consumeraffairs.com](https://vertexaisearch.cloud.google.com/grounding-api-redirect/AbF9wXH8kXXmp6evrq1t6Og7TrcZn9ShfPrxXFa7f958EWrJGv3MaQ-ID1g0n_oBZPtIs1k64x4RqjNBRgGeP5Yp-18y9UxW8rH3_M215DTOo3orLr5KJQMfh1IhMXT-6in5rD2-lRvNWI--CvJsUDE83FE_m2gzV3-94WjKb-an-PqVhw==)\n15. [nih.gov](https://vertexaisearch.cloud.google.com/grounding-api-redirect/AbF9wXHsVr9hKnqrorPjdQ1rwgjjxt_iesF8Bv4vL_Ed_RjqQfpQjqmMdwOTyqdd-qSq6D_rsfPCBtTwLDVG7zgqpobbjAZ7ihoNZHgVVsJITU8g_LGi-4oIB6xSOycOUa_HXzhRydTi3uq4DJbROw==)\n"
          },
          "metadata": {}
        }
      ],
      "source": [
        "# Use Grounding with Google Search to do market research\n",
        "market_research_prompt = \"\"\"\n",
        "  I am planning to launch a mobile phone campaign and I want to understand the latest trends in the phone industry.\n",
        "  Please answer the following questions:\n",
        "  - What are the latest phone models and their selling point from the top 2 phone makers?\n",
        "  - What is the general public sentiment about mobile phones?\n",
        "\"\"\"\n",
        "\n",
        "contents = [market_research_prompt]\n",
        "\n",
        "google_search_tool = Tool(google_search=GoogleSearch())\n",
        "\n",
        "response = client.models.generate_content(\n",
        "    model=MODEL_ID,\n",
        "    contents=contents,\n",
        "    config=GenerateContentConfig(tools=[google_search_tool]),\n",
        ")\n",
        "\n",
        "market_research = response.text\n",
        "print_grounding_response(response)"
      ]
    },
    {
      "cell_type": "code",
      "source": [
        "from google import genai\n",
        "from google.genai.types import GenerateContentConfig, Tool, GoogleSearch\n"
      ],
      "metadata": {
        "id": "s9SLp9FdqIw0"
      },
      "execution_count": null,
      "outputs": []
    },
    {
      "cell_type": "code",
      "source": [
        "!pip show google-genai\n"
      ],
      "metadata": {
        "colab": {
          "base_uri": "https://localhost:8080/"
        },
        "id": "hwrh6DK9qTw8",
        "outputId": "ff4143bd-4065-4813-e83c-ecd15d8ea9f2"
      },
      "execution_count": null,
      "outputs": [
        {
          "output_type": "stream",
          "name": "stdout",
          "text": [
            "Name: google-genai\n",
            "Version: 1.16.1\n",
            "Summary: GenAI Python SDK\n",
            "Home-page: https://github.com/googleapis/python-genai\n",
            "Author: \n",
            "Author-email: Google LLC <googleapis-packages@google.com>\n",
            "License: Apache-2.0\n",
            "Location: /usr/local/lib/python3.11/dist-packages\n",
            "Requires: anyio, google-auth, httpx, pydantic, requests, typing-extensions, websockets\n",
            "Required-by: google-cloud-aiplatform\n"
          ]
        }
      ]
    },
    {
      "cell_type": "code",
      "source": [],
      "metadata": {
        "id": "jaISamGrqYAQ"
      },
      "execution_count": null,
      "outputs": []
    },
    {
      "cell_type": "markdown",
      "metadata": {
        "id": "7-LBVlhrhj20"
      },
      "source": [
        "Congratulations on using Grounding with Google Search to get the latest information around the phone industry in your market research!"
      ]
    },
    {
      "cell_type": "markdown",
      "metadata": {
        "id": "ZjMex3LKHMzd"
      },
      "source": [
        "### Putting it together\n",
        "\n",
        "Now that we have a template and some market research done, let's try to create a marketing brief for our new phone launch with Gemini 2.0 Flash!\n",
        "\n",
        "In the next cell, you'll pass the following information to Gemini 2.0 Flash:\n",
        "1. Information about the phone that you're launching\n",
        "2. Prompt to instruct Gemini to create a marketing campaign brief\n",
        "3. Extracted information from the sample past campaign brief\n",
        "4. Market research that was done with Grounding with Google Search\n",
        "5. MarketingCampaignBrief schema that was defined previously\n"
      ]
    },
    {
      "cell_type": "code",
      "execution_count": null,
      "metadata": {
        "id": "ksyAm8h0HYpq",
        "colab": {
          "base_uri": "https://localhost:8080/"
        },
        "outputId": "1efe4fea-f8e9-487b-e670-bb1edf05ba0e"
      },
      "outputs": [
        {
          "output_type": "stream",
          "name": "stdout",
          "text": [
            "{\n",
            "  \"campaign_name\": \"Experience the Future with Pix Phone 10\",\n",
            "  \"campaign_objectives\": [\n",
            "    \"Generate excitement and awareness for the launch of the Pix Phone 10.\",\n",
            "    \"Drive pre-orders and initial sales of the Pix Phone 10.\",\n",
            "    \"Establish Pix Phone as a leader in AI-powered mobile technology and user experience.\",\n",
            "    \"Increase brand awareness and positive sentiment towards Pix Phone.\"\n",
            "  ],\n",
            "  \"target_audience\": \"Tech-savvy individuals aged 22-45 in US, France, and Japan who value innovative technology, user-friendly design, and superior camera capabilities.\",\n",
            "  \"media_strategy\": [\n",
            "    \"Social Media Marketing: Utilize targeted advertising on platforms like Instagram, TikTok, and YouTube, showcasing the phone's AI features, camera capabilities, and redesigned user experience. Create engaging content such as short videos, interactive polls, and behind-the-scenes glimpses of the phone's development.\",\n",
            "    \"Influencer Marketing: Partner with tech reviewers, lifestyle influencers, and photography enthusiasts to create authentic reviews and demonstrations of the Pix Phone 10's key features. Focus on highlighting the phone's unique AI capabilities and user experience.\",\n",
            "    \"Digital Advertising: Implement a comprehensive digital advertising strategy using display ads, search engine marketing (SEM), and retargeting to reach potential customers actively searching for new phones or information on AI technology. Run ads on tech websites, blogs, and online forums.\",\n",
            "    \"Public Relations: Secure media coverage in leading tech publications and news outlets through press releases, product reviews, and exclusive interviews. Highlight the Pix Phone 10's innovative features and its commitment to user-centric design.\",\n",
            "    \"Experiential Marketing: Host launch events and pop-up shops in major cities to allow potential customers to experience the Pix Phone 10 firsthand. Offer hands-on demos, interactive displays, and opportunities to engage with product experts.\",\n",
            "    \"Content Marketing: Create informative and engaging content, such as blog posts, articles, and infographics, that showcase the Pix Phone 10's features, benefits, and AI-powered capabilities. Optimize content for search engines to improve visibility and drive organic traffic.\"\n",
            "  ],\n",
            "  \"timeline\": \"Pre-launch campaign to begin in Dec 2024. Official launch and marketing activities in US, France, and Japan to coincide with product release in Jan 2025. Ongoing marketing and promotional activities throughout 2025.\",\n",
            "  \"target_countries\": [\n",
            "    \"US\",\n",
            "    \"France\",\n",
            "    \"Japan\"\n",
            "  ],\n",
            "  \"performance_metrics\": [\n",
            "    \"Website traffic and engagement (page views, time on site, bounce rate).\",\n",
            "    \"Social media engagement (likes, shares, comments, reach).\",\n",
            "    \"Pre-order volume and initial sales figures.\",\n",
            "    \"Brand mentions and sentiment analysis.\",\n",
            "    \"Conversion rates from marketing campaigns to sales.\",\n",
            "    \"Customer satisfaction scores and product reviews.\",\n",
            "    \"Media coverage and earned media value.\"\n",
            "  ]\n",
            "}\n"
          ]
        }
      ],
      "source": [
        "new_phone_details = \"\"\"\n",
        "  Phone Name: Pix Phone 10\n",
        "  Short description: Pix Phone 10 is the flagship phone with a focus on AI-powered features and a completely redesigned form factor.\n",
        "  Tech Specs:\n",
        "    - Camera: 50MP main sensor with 48MP ultrawide lens with autofocus for macro shots\n",
        "    - Performance: P5 processor for fast performance and AI capabilities\n",
        "    - Battery: 4700mAh battery for all-day usage\n",
        "  Key Highlights:\n",
        "    - Powerful camera system\n",
        "    - Redesigned software user experience to introduce more fun\n",
        "    - Compact form factor\n",
        "  Launch timeline: Jan 2025\n",
        "  Target countries: US, France and Japan\n",
        "\"\"\"\n",
        "\n",
        "create_brief_prompt = f\"\"\"\n",
        "Given the following details, create a marketing campaign brief for the new phone launch:\n",
        "\n",
        "Sample campaign brief:\n",
        "{sample_marketing_brief}\n",
        "\n",
        "Market research:\n",
        "{market_research}\n",
        "\n",
        "New phone details:\n",
        "{new_phone_details}\n",
        "\"\"\"\n",
        "\n",
        "contents = [create_brief_prompt]\n",
        "\n",
        "response = client.models.generate_content(\n",
        "    model=MODEL_ID,\n",
        "    contents=contents,\n",
        "    config=GenerateContentConfig(\n",
        "        response_mime_type=\"application/json\",\n",
        "        response_schema=MarketingCampaignBrief,\n",
        "    ),\n",
        ")\n",
        "\n",
        "creative_brief = response.text\n",
        "creative_brief_json = json.loads(creative_brief)\n",
        "print(json.dumps(creative_brief_json, indent=2))"
      ]
    },
    {
      "cell_type": "markdown",
      "metadata": {
        "id": "jjGa1z2rht14"
      },
      "source": [
        "You've successfully created your marketing campaign brief for your upcoming phone launch!"
      ]
    },
    {
      "cell_type": "markdown",
      "metadata": {
        "id": "0kUUTkP_KTNl"
      },
      "source": [
        "### Creating Assets for the Marketing Campaign\n",
        "Now that we have our marketing campaign brief for the upcoming phone launch, we can now use it as information and context to generate some marketing assets.\n",
        "\n",
        "Gemini supports a variety of languages ([complete list](https://cloud.google.com/vertex-ai/generative-ai/docs/learn/models#languages-gemini)) so it is perfect for us as we will need to generate assets in the local language of our target markets: US, France and Japan.\n",
        "\n",
        "In the following sections, we will be looking at creating:\n",
        "- Social Media Ad Copy\n",
        "- Storyboarding for short-form videos"
      ]
    },
    {
      "cell_type": "markdown",
      "metadata": {
        "id": "ME-ot7hmXrB4"
      },
      "source": [
        "#### Creating Social Media Ad Copy\n",
        "Similarly, we will be defining a response schema for ad copy and passing it it to Gemini 2.0 Flash in the request.\n",
        "\n",
        "In the next few cells, we will do the following:\n",
        "1. Define the JSON response schema for our ad copy\n",
        "2. Send the prompt and response schema to Gemini 2.0 Flash"
      ]
    },
    {
      "cell_type": "code",
      "execution_count": null,
      "metadata": {
        "id": "CBnNzb0DJc92"
      },
      "outputs": [],
      "source": [
        "# JSON response schema for an ad copy\n",
        "\n",
        "\n",
        "class AdCopy(BaseModel):\n",
        "    ad_copy_options: list[str]\n",
        "    localization_notes: list[str]\n",
        "    visual_description: list[str]"
      ]
    },
    {
      "cell_type": "code",
      "execution_count": null,
      "metadata": {
        "id": "X0PLRHllLttp",
        "colab": {
          "base_uri": "https://localhost:8080/"
        },
        "outputId": "982ea377-ede4-4db9-8a19-a4331acd9c56"
      },
      "outputs": [
        {
          "output_type": "stream",
          "name": "stdout",
          "text": [
            "{\n",
            "  \"ad_copy_options\": [\n",
            "    \"🇺🇸 US: Experience the future in your hands with the all-new Pix Phone 10! ✨ Featuring revolutionary AI, a stunning camera, and a redesigned user experience. Pre-order yours today and be among the first to experience the difference! #PixPhone10 #AIphone #Innovation #Tech\",\n",
            "    \"🇫🇷 France: Découvrez le futur entre vos mains avec le tout nouveau Pix Phone 10 ! ✨ Doté d'une IA révolutionnaire, d'un appareil photo incroyable et d'une expérience utilisateur repensée. Précommandez le vôtre dès aujourd'hui et soyez parmi les premiers à découvrir la différence ! #PixPhone10 #AIphone #Innovation #Tech\",\n",
            "    \"🇯🇵 Japan: 未来をあなたの手に。✨ 新登場の Pix Phone 10 で革新的なAI、素晴らしいカメラ、そして再設計されたユーザーエクスペリエンスを体験してください！今日から予約注文して、その違いをいち早く体験してください！#PixPhone10 #AIphone #イノベーション #テック\"\n",
            "  ],\n",
            "  \"localization_notes\": [\n",
            "    \"US: Uses American English and focuses on innovation and being among the first to experience the new tech.\",\n",
            "    \"France: Uses French language and emphasizes discovery and being among the first to experience the difference.\",\n",
            "    \"Japan: Uses Japanese language and highlights the experience of innovative AI and redesigned user experience.\"\n",
            "  ],\n",
            "  \"visual_description\": [\n",
            "    \"US: A sleek, modern shot of the Pix Phone 10 in hand, showcasing its edge-to-edge display, with a blurred background of a bustling city street.\",\n",
            "    \"France: A stylish shot of someone taking a photo with the Pix Phone 10 in a Parisian cafe, highlighting the phone's camera capabilities and the chic aesthetic.\",\n",
            "    \"Japan: A minimalist shot of the Pix Phone 10 showcasing the phone's user interface with a background of a serene zen garden.\"\n",
            "  ]\n",
            "}\n"
          ]
        }
      ],
      "source": [
        "ad_copy_prompt = f\"\"\"\n",
        "  Given the marketing campaign brief, create an Instagram ad-copy for each target market: {creative_brief_json[\"target_countries\"]}\n",
        "  Please localize the ad-copy and the visuals to the target markets for better relevancy to the target audience.\n",
        "  Marketing Campaign Brief:\n",
        "  {creative_brief}\n",
        "\"\"\"\n",
        "\n",
        "contents = [ad_copy_prompt]\n",
        "\n",
        "response = client.models.generate_content(\n",
        "    model=MODEL_ID,\n",
        "    contents=contents,\n",
        "    config=GenerateContentConfig(\n",
        "        response_mime_type=\"application/json\",\n",
        "        response_schema=AdCopy,\n",
        "    ),\n",
        ")\n",
        "\n",
        "ad_copy = response.text\n",
        "ad_copy_json = json.loads(ad_copy)\n",
        "print(json.dumps(ad_copy_json, indent=2, ensure_ascii=False))"
      ]
    },
    {
      "cell_type": "markdown",
      "metadata": {
        "id": "iF_mmCaUkwgq"
      },
      "source": [
        "You've successfully created localized ad copies for each of the target markets in its respective local language!"
      ]
    },
    {
      "cell_type": "markdown",
      "metadata": {
        "id": "1k8qvQ0GXxEz"
      },
      "source": [
        "#### Creating storyboard for short-form videos\n",
        "Lastly, let's get Gemini 2.0 Flash to help us brainstorm a storyboard for a short-form video to accompany the phone launch campaign!\n"
      ]
    },
    {
      "cell_type": "code",
      "execution_count": null,
      "metadata": {
        "id": "rDXmBAEDLXkl",
        "colab": {
          "base_uri": "https://localhost:8080/",
          "height": 1000
        },
        "outputId": "0057488b-5d35-47ed-b58e-9450bf343d4b"
      },
      "outputs": [
        {
          "output_type": "display_data",
          "data": {
            "text/plain": [
              "<IPython.core.display.Markdown object>"
            ],
            "text/markdown": "Okay, here's a storyboard for a YouTube Shorts video campaign for the Pix Phone 10, localized for the US, France, and Japan. The core concept is a quick, energetic showcase of the phone's key feature: AI-powered amazing photo taking, adapted to each culture.\n\n**Campaign Title:** Pix Phone 10: Capture the Moment, Effortlessly.\n\n**Video Concept:** Fast-paced montage showcasing the phone's AI camera capabilities in everyday scenarios, tailored to each country's culture and lifestyle. Focus on ease of use and stunning results.\n\n**Overall Tone:** Upbeat, modern, tech-forward, slightly humorous.\n\n**Music:** Upbeat, trendy, royalty-free music track. Can be slightly different in each version to better reflect local tastes.\n\n**General Structure:**\n\n*   **Opening:** Eye-catching visual hook. (1 second)\n*   **Problem:** Briefly shows a common photography frustration (blurry, poorly lit, bad angle). (1 second)\n*   **Solution:** Shows the Pix Phone 10 easily capturing a perfect photo. (4 seconds)\n*   **Feature Highlight:** Text overlay highlights the AI feature used (e.g., \"AI Scene Optimizer,\" \"Auto-Focus Tracking,\" \"Magic Eraser\"). (2 seconds)\n*   **Repeat:** Show a couple of more short scenes showing more benefits. (6 seconds)\n*   **Call to Action:** Screen with \"Pre-Order Now\" and website/QR code. (1 second)\n\n**Localization Strategies:**\n\n*   **Scenarios:** Choose scenarios that are relatable and relevant to each country's culture.\n*   **Actors/Models:** Use diverse and culturally appropriate actors/models.\n*   **Language:** Obvious, but ensure all text overlays and voiceovers are professionally translated.\n*   **Humor:** Adapt the humor to fit local sensibilities.\n*   **Music:** Consider using music popular within the target region.\n\n---\n\n**Storyboard: US Version**\n\n| **Scene #** | **Visual Description**                                                                                                                   | **Audio/Text Overlay**                                                                                                                                                                                            | **Duration** | **Notes**                                                                                                                                                                      |\n| :---------- | :------------------------------------------------------------------------------------------------------------------------------------- | :----------------------------------------------------------------------------------------------------------------------------------------------------------------------------------------------------------------- | :----------- | :----------------------------------------------------------------------------------------------------------------------------------------------------------------------------- |\n| 1          | **Hook:** Quick shot of vibrant street art in a major US city (NYC, LA, Chicago).                                                      | Upbeat music starts                                                                                                                                                                                               | 1 sec       | Dynamic angle, colorful.                                                                                                                                                       |\n| 2          | **Problem:** Someone struggling to take a decent photo of their friends at a crowded outdoor concert.  Blurry, poorly framed.          | (Sound of frustrated sigh)                                                                                                                                                                                         | 1 sec       | Relatable scenario for young adults in the US.                                                                                                                               |\n| 3          | **Solution:**  Switch to the Pix Phone 10 effortlessly capturing a clear, well-composed photo of the same group, even in low light. | (Camera shutter sound effect) / \"Say Cheese!\"                                                                                                                                                                         | 4 sec       |  Show the phone's AI instantly correcting the image. Focus on the clarity and vibrant colors.                                                                               |\n| 4          | **Feature:** Close-up of the Pix Phone 10 screen showing \"AI Scene Optimizer\" activating.                                              | \"AI Scene Optimizer\" (Text overlay, stylish font)                                                                                                                                                                | 2 sec       | Highlight the phone's ability to recognize and enhance different scenes.                                                                                                   |\n| 5          | **More Benefit:** At-home video showcasing a family in the kitchen baking cookies and having fun while capturing the moment.            | (Happy family sounds)/ Camera shutter sound effect.                                                                                                                                                             | 3 sec        | Show off high-speed shutter.                                                                                                                                                   |\n| 6          | **More Benefit:** Show person walking a dog in a park while taking a selfie.                                                           | (Dogs barks) / Camera shutter sound effect.                                                                                                                                                                         | 3 sec       | Show off auto focus tracking on the dog.                                                                                                                                   |\n| 7          | **Call to Action:** Screen showing the Pix Phone 10 with text \"Pre-Order Now\" and a QR code/website address.                             | \"Pix Phone 10. Experience the Future.\" / \"Pre-Order Now!\" (Energetic voiceover)                                                                                                                                  | 1 sec       | Clean, modern design. Website should be easy to remember.                                                                                                                 |\n\n---\n\n**Storyboard: France Version**\n\n| **Scene #** | **Visual Description**                                                                                                                              | **Audio/Text Overlay**                                                                                                                                                                                              | **Duration** | **Notes**                                                                                                                                                                                   |\n| :---------- | :------------------------------------------------------------------------------------------------------------------------------------------------ | :------------------------------------------------------------------------------------------------------------------------------------------------------------------------------------------------------------------- | :----------- | :------------------------------------------------------------------------------------------------------------------------------------------------------------------------------------------ |\n| 1          | **Hook:** Quick shot of the Eiffel Tower sparkling at night.                                                                                       | Upbeat music starts (French-inspired, maybe a touch of electro-swing)                                                                                                                                                   | 1 sec       | Iconic, beautiful.                                                                                                                                                                          |\n| 2          | **Problem:** Someone struggling to take a photo of their food (a beautiful pastry) in a dimly lit café. The picture is dark and unappealing. | (Sound of frustration, quiet French murmur)                                                                                                                                                                              | 1 sec       | Food photography is popular in France.                                                                                                                                                     |\n| 3          | **Solution:** Switch to the Pix Phone 10 effortlessly capturing a bright, mouthwatering photo of the same pastry.                               | (Camera shutter sound effect) /  \"Magnifique!\"                                                                                                                                                                              | 4 sec       | Emphasize the colors and detail. Focus on the phone's low-light capabilities.                                                                                                              |\n| 4          | **Feature:** Close-up of the Pix Phone 10 screen showing \"Mode Nuit IA\" (AI Night Mode) activating.                                            | \"Mode Nuit IA\" (Text overlay, stylish font)                                                                                                                                                                               | 2 sec       | Important to use the French translation.                                                                                                                                                      |\n| 5          | **More Benefit:** Video showcasing friends having a picnic in a park and showcasing the fun of taking photos while having fun.                   | (Happy friend sounds) / Camera shutter sound effect.                                                                                                                                                              | 3 sec        | Show off high-speed shutter.                                                                                                                                                           |\n| 6          | **More Benefit:** Show person reading a book at a cafe and taking a selfie with the sun out.                                                     | (Ambient music) / Camera shutter sound effect.                                                                                                                                                                  | 3 sec       | Show off auto-focus tracking on the people in the frame.                                                                                                                                 |\n| 7          | **Call to Action:** Screen showing the Pix Phone 10 with text \"Précommandez Maintenant\" and a QR code/website address.                               | \"Pix Phone 10. Découvrez le Futur.\" / \"Précommandez Maintenant!\" (Energetic voiceover, French accent)                                                                                                                    | 1 sec       | Clean, modern design. Website should be easy to remember.                                                                                                                           |\n\n---\n\n**Storyboard: Japan Version**\n\n| **Scene #** | **Visual Description**                                                                                                                             | **Audio/Text Overlay**                                                                                                                                                                                               | **Duration** | **Notes**                                                                                                                                                                                |\n| :---------- | :----------------------------------------------------------------------------------------------------------------------------------------------- | :-------------------------------------------------------------------------------------------------------------------------------------------------------------------------------------------------------------------- | :----------- | :--------------------------------------------------------------------------------------------------------------------------------------------------------------------------------------- |\n| 1          | **Hook:** Quick shot of vibrant Shibuya crossing.                                                                                                 | Upbeat music starts (J-Pop inspired, or electronic with traditional Japanese instruments)                                                                                                                                    | 1 sec       | High-energy, iconic location.                                                                                                                                                              |\n| 2          | **Problem:** Someone struggling to take a good photo of cherry blossoms, with too much glare and washed-out colors.                            | (Sound of a disappointed sigh)                                                                                                                                                                                             | 1 sec       | Cherry blossom season is a huge event in Japan.                                                                                                                                         |\n| 3          | **Solution:** Switch to the Pix Phone 10 effortlessly capturing a stunning photo of the cherry blossoms with perfectly balanced colors and light. | (Camera shutter sound effect) / \"Sugoi!\" (Amazing!)                                                                                                                                                                    | 4 sec       | Emphasize the color accuracy and dynamic range.                                                                                                                                         |\n| 4          | **Feature:** Close-up of the Pix Phone 10 screen showing \"AI カラー最適化\" (AI Color Optimization) activating.                                      | \"AI カラー最適化\" (Text overlay, stylish font)                                                                                                                                                                                | 2 sec       | Important to use the Japanese translation (AI Karā Saitekika). Consider using Katakana for \"AI.\"                                                                                       |\n| 5          | **More Benefit:** Video showcasing friends taking photos at Anime convention while having fun.                                                 | (Happy friend sounds) / Camera shutter sound effect.                                                                                                                                                               | 3 sec        | Show off high-speed shutter.                                                                                                                                                            |\n| 6          | **More Benefit:** Show person taking a selfie with the family in a park.                                                                       | (Ambient sounds) / Camera shutter sound effect.                                                                                                                                                                   | 3 sec       | Show off auto-focus tracking on the people in the frame.                                                                                                                                  |\n| 7          | **Call to Action:** Screen showing the Pix Phone 10 with text \"今すぐ予約\" (Ima Sugu Yoyaku - Pre-Order Now) and a QR code/website address.                     | \"Pix Phone 10. 未来を体験してください.\" (Mirai o Taiken shite kudasai - Experience the Future.) / \"今すぐ予約!\" (Ima Sugu Yoyaku!) (Energetic voiceover, Japanese accent)                                          | 1 sec       | Clean, modern design. Website should be easy to remember. Consider a shorter, more colloquial version of \"Pre-Order Now.\"                                                            |\n\n**Important Considerations for All Versions:**\n\n*   **Visual Appeal:** High-quality video and editing are crucial.\n*   **Pacing:** Keep it fast and engaging.\n*   **Clarity:** Make the AI benefits immediately obvious.\n*   **Call to Action:** Make it clear and easy to pre-order.\n*   **Testing:** Test the videos with target audiences in each country to ensure they resonate.\n\nThis storyboard provides a solid foundation for creating localized YouTube Shorts that will effectively promote the Pix Phone 10 in the US, France, and Japan. Good luck!\n"
          },
          "metadata": {}
        }
      ],
      "source": [
        "short_video_prompt = f\"\"\"\n",
        "  Given the marketing campaign brief, create a storyboard for a YouTube Shorts video for target markets: {creative_brief_json[\"target_countries\"]}.\n",
        "  Please localize the content to the target markets for better relevancy to the target audience.\n",
        "  Marketing Campaign Brief:\n",
        "  {creative_brief}\n",
        "\n",
        "\"\"\"\n",
        "\n",
        "contents = [short_video_prompt]\n",
        "\n",
        "response = client.models.generate_content(model=MODEL_ID, contents=contents)\n",
        "\n",
        "short_video_response = response.text\n",
        "display(Markdown(short_video_response))"
      ]
    },
    {
      "cell_type": "markdown",
      "metadata": {
        "id": "_LMu5uAqlS0V"
      },
      "source": [
        "There you go! You've successfully created storyboards for each of the target markets - localized to the local context!"
      ]
    },
    {
      "cell_type": "markdown",
      "metadata": {
        "id": "KXnkxZbeM0tY"
      },
      "source": [
        "# Conclusion\n",
        "In this tutorial, you've learned:\n",
        "- How to use the unified Google Gen AI SDK\n",
        "- Extract information from PDF documents\n",
        "- Use Controlled Generation to ensure consistent output in specified schema\n",
        "- Utilize Grounding with Google Search to access latest information\n",
        "- Create a marketing campaign and assets with Gemini"
      ]
    }
  ],
  "metadata": {
    "colab": {
      "collapsed_sections": [
        "dmWOrTJ3gx13"
      ],
      "toc_visible": true,
      "provenance": [],
      "include_colab_link": true
    },
    "kernelspec": {
      "display_name": "Python 3",
      "name": "python3"
    }
  },
  "nbformat": 4,
  "nbformat_minor": 0
}